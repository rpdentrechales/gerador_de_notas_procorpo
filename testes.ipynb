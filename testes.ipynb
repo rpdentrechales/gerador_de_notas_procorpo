{
 "cells": [
  {
   "cell_type": "code",
   "execution_count": null,
   "metadata": {},
   "outputs": [],
   "source": [
    "import streamlit as st\n",
    "import pandas as pd\n",
    "from datetime import datetime, timedelta,time\n",
    "from streamlit_gsheets import GSheetsConnection\n",
    "from auxiliar.auxiliar import *\n",
    "from auxiliar.omie_aux import *"
   ]
  },
  {
   "cell_type": "markdown",
   "metadata": {},
   "source": [
    "# testar subir OS"
   ]
  },
  {
   "cell_type": "code",
   "execution_count": null,
   "metadata": {},
   "outputs": [],
   "source": [
    "base_compilada = pd.read_csv(\"testes\\dados_testes.csv\")\n",
    "print(f\"Tamanho da base: {base_compilada.shape}\")\n"
   ]
  },
  {
   "cell_type": "code",
   "execution_count": null,
   "metadata": {},
   "outputs": [],
   "source": [
    "\n",
    "clientes_subidos = criar_clientes_selecionados(base_compilada)\n",
    "clientes_subidos = clientes_subidos.to_dict(orient='records')\n",
    "st.write(f\"{len(clientes_subidos)} clientes novos criados\")\n",
    "subir_dados_mongodb(\"log_clientes\",clientes_subidos)\n",
    "\n",
    "# st.write(\"Criando Ordens de Serviço...\")\n",
    "# os_subidos = criar_ordens_de_servico_da_planilha(base_compilada)\n",
    "# os_subidos_dic = os_subidos.to_dict(orient='records')\n",
    "# subir_dados_mongodb(\"log_os\",os_subidos_dic)\n",
    "\n",
    "# erros_mask = os_subidos[\"resposta\"].astype(str).str.contains(\"ERROR\", case=False, na=False)\n",
    "# ids_para_subir = os_subidos.loc[~erros_mask,\"os_id\"]\n",
    "# base_para_subir = dados_crm_df.loc[dados_crm_df['os_id'].isin(ids_para_subir)]\n",
    "# base_para_subir = base_para_subir.drop_duplicates()\n",
    "# base_para_subir_dic = base_para_subir.to_dict(orient='records')\n",
    "# subir_dados_mongodb(\"os_processados\",base_para_subir_dic)"
   ]
  },
  {
   "cell_type": "code",
   "execution_count": null,
   "metadata": {},
   "outputs": [],
   "source": [
    "linha_teste = base_compilada.iloc[0]\n",
    "subir_linha_teste(linha_teste)"
   ]
  },
  {
   "cell_type": "code",
   "execution_count": 4,
   "metadata": {},
   "outputs": [
    {
     "data": {
      "text/html": [
       "<div>\n",
       "<style scoped>\n",
       "    .dataframe tbody tr th:only-of-type {\n",
       "        vertical-align: middle;\n",
       "    }\n",
       "\n",
       "    .dataframe tbody tr th {\n",
       "        vertical-align: top;\n",
       "    }\n",
       "\n",
       "    .dataframe thead th {\n",
       "        text-align: right;\n",
       "    }\n",
       "</style>\n",
       "<table border=\"1\" class=\"dataframe\">\n",
       "  <thead>\n",
       "    <tr style=\"text-align: right;\">\n",
       "      <th></th>\n",
       "      <th>unidade</th>\n",
       "      <th>codigo_cliente_integracao</th>\n",
       "    </tr>\n",
       "  </thead>\n",
       "  <tbody>\n",
       "    <tr>\n",
       "      <th>0</th>\n",
       "      <td>BELO HORIZONTE</td>\n",
       "      <td>_CLIENTE_CONSUMIDOR_</td>\n",
       "    </tr>\n",
       "    <tr>\n",
       "      <th>1</th>\n",
       "      <td>BELO HORIZONTE</td>\n",
       "      <td>595984</td>\n",
       "    </tr>\n",
       "    <tr>\n",
       "      <th>2</th>\n",
       "      <td>BELO HORIZONTE</td>\n",
       "      <td>710153</td>\n",
       "    </tr>\n",
       "    <tr>\n",
       "      <th>3</th>\n",
       "      <td>BELO HORIZONTE</td>\n",
       "      <td>673015</td>\n",
       "    </tr>\n",
       "    <tr>\n",
       "      <th>4</th>\n",
       "      <td>BELO HORIZONTE</td>\n",
       "      <td>658380</td>\n",
       "    </tr>\n",
       "    <tr>\n",
       "      <th>...</th>\n",
       "      <td>...</td>\n",
       "      <td>...</td>\n",
       "    </tr>\n",
       "    <tr>\n",
       "      <th>4302</th>\n",
       "      <td>BackOffice</td>\n",
       "      <td>522778</td>\n",
       "    </tr>\n",
       "    <tr>\n",
       "      <th>4303</th>\n",
       "      <td>BackOffice</td>\n",
       "      <td>948037</td>\n",
       "    </tr>\n",
       "    <tr>\n",
       "      <th>4304</th>\n",
       "      <td>BackOffice</td>\n",
       "      <td>892537</td>\n",
       "    </tr>\n",
       "    <tr>\n",
       "      <th>4305</th>\n",
       "      <td>BackOffice</td>\n",
       "      <td>574353</td>\n",
       "    </tr>\n",
       "    <tr>\n",
       "      <th>4306</th>\n",
       "      <td>BackOffice</td>\n",
       "      <td>817529</td>\n",
       "    </tr>\n",
       "  </tbody>\n",
       "</table>\n",
       "<p>4307 rows × 2 columns</p>\n",
       "</div>"
      ],
      "text/plain": [
       "             unidade codigo_cliente_integracao\n",
       "0     BELO HORIZONTE      _CLIENTE_CONSUMIDOR_\n",
       "1     BELO HORIZONTE                    595984\n",
       "2     BELO HORIZONTE                    710153\n",
       "3     BELO HORIZONTE                    673015\n",
       "4     BELO HORIZONTE                    658380\n",
       "...              ...                       ...\n",
       "4302      BackOffice                    522778\n",
       "4303      BackOffice                    948037\n",
       "4304      BackOffice                    892537\n",
       "4305      BackOffice                    574353\n",
       "4306      BackOffice                    817529\n",
       "\n",
       "[4307 rows x 2 columns]"
      ]
     },
     "execution_count": 4,
     "metadata": {},
     "output_type": "execute_result"
    }
   ],
   "source": [
    "codigo_integracao = pegar_dados_mongodb(\"id_clientes\")\n",
    "codigo_integracao"
   ]
  },
  {
   "cell_type": "code",
   "execution_count": null,
   "metadata": {},
   "outputs": [
    {
     "name": "stdout",
     "output_type": "stream",
     "text": [
      "Iterando na linha:  0\n"
     ]
    },
    {
     "ename": "ValueError",
     "evalue": "The truth value of a Series is ambiguous. Use a.empty, a.bool(), a.item(), a.any() or a.all().",
     "output_type": "error",
     "traceback": [
      "\u001b[31m---------------------------------------------------------------------------\u001b[39m",
      "\u001b[31mValueError\u001b[39m                                Traceback (most recent call last)",
      "\u001b[32m~\\AppData\\Local\\Temp\\ipykernel_15492\\206441005.py\u001b[39m in \u001b[36m?\u001b[39m\u001b[34m()\u001b[39m\n\u001b[32m      9\u001b[39m     \u001b[38;5;28;01mif\u001b[39;00m \u001b[38;5;28;01mnot\u001b[39;00m codigo_integracao.empty:\n\u001b[32m     10\u001b[39m         \u001b[38;5;28;01mif\u001b[39;00m str(id_do_cliente) \u001b[38;5;28;01min\u001b[39;00m codigo_integracao.loc[codigo_integracao[\u001b[33m\"unidade\"\u001b[39m] == unidade,\u001b[33m\"codigo_cliente_integracao\"\u001b[39m].values:\n\u001b[32m     11\u001b[39m             print(\u001b[33mf\"Cliente {id_do_cliente} já existe na base de dados\"\u001b[39m)\n\u001b[32m     12\u001b[39m \n\u001b[32m---> \u001b[39m\u001b[32m13\u001b[39m         \u001b[38;5;28;01melif\u001b[39;00m (codigo_integracao == id_do_cliente).any():\n\u001b[32m     14\u001b[39m             print(\u001b[33mf\"Cliente {id_do_cliente} já existe na base de dados, mas a unidade é diferente\"\u001b[39m)\n\u001b[32m     15\u001b[39m         \u001b[38;5;28;01melse\u001b[39;00m:\n\u001b[32m     16\u001b[39m             print(\u001b[33mf\"Cliente {id_do_cliente} não existe na base de dados\"\u001b[39m)\n",
      "\u001b[32mc:\\Users\\ciros\\github\\gerador_de_notas_procorpo\\.venv\\Lib\\site-packages\\pandas\\core\\generic.py\u001b[39m in \u001b[36m?\u001b[39m\u001b[34m(self)\u001b[39m\n\u001b[32m   1575\u001b[39m     @final\n\u001b[32m   1576\u001b[39m     \u001b[38;5;28;01mdef\u001b[39;00m __nonzero__(self) -> NoReturn:\n\u001b[32m-> \u001b[39m\u001b[32m1577\u001b[39m         raise ValueError(\n\u001b[32m   1578\u001b[39m             \u001b[33mf\"The truth value of a {type(self).__name__} is ambiguous. \"\u001b[39m\n\u001b[32m   1579\u001b[39m             \u001b[33m\"Use a.empty, a.bool(), a.item(), a.any() or a.all().\"\u001b[39m\n\u001b[32m   1580\u001b[39m         )\n",
      "\u001b[31mValueError\u001b[39m: The truth value of a Series is ambiguous. Use a.empty, a.bool(), a.item(), a.any() or a.all()."
     ]
    }
   ],
   "source": [
    "for index,row in base_compilada.iterrows():\n",
    "    print(\"Iterando na linha: \",index) ## Print para debug!!!!!!!!!!\n",
    "\n",
    "    dados_cliente = row[\"dados_cliente\"]\n",
    "    unidade = row[\"store_name\"]\n",
    "    unidade = \"BackOffice\" ## Para teste!!!!!!!!!!!!!!!!!!!!!!!!!!!!!!!!!!!!!!!!!!!!!!!!!!!!!!!!!!!\n",
    "    id_do_cliente = row[\"customer_id\"]\n",
    "\n",
    "    if not codigo_integracao.empty:\n",
    "        if str(id_do_cliente) in codigo_integracao.loc[codigo_integracao[\"unidade\"] == unidade,\"codigo_cliente_integracao\"].values:\n",
    "            print(f\"Cliente {id_do_cliente} já existe na base de dados\")\n",
    "        \n",
    "        elif (len(codigo_integracao.loc[codigo_integracao[\"codigo_cliente_integracao\"]] == id_do_cliente) > 0):\n",
    "            print(f\"Cliente {id_do_cliente} já existe na base de dados, mas a unidade é diferente\")\n",
    "        else:\n",
    "            print(f\"Cliente {id_do_cliente} não existe na base de dados\")"
   ]
  }
 ],
 "metadata": {
  "kernelspec": {
   "display_name": ".venv",
   "language": "python",
   "name": "python3"
  },
  "language_info": {
   "codemirror_mode": {
    "name": "ipython",
    "version": 3
   },
   "file_extension": ".py",
   "mimetype": "text/x-python",
   "name": "python",
   "nbconvert_exporter": "python",
   "pygments_lexer": "ipython3",
   "version": "3.11.9"
  }
 },
 "nbformat": 4,
 "nbformat_minor": 2
}
