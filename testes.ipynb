{
 "cells": [
  {
   "cell_type": "code",
   "execution_count": 1,
   "metadata": {},
   "outputs": [],
   "source": [
    "import streamlit as st\n",
    "import pandas as pd\n",
    "from datetime import datetime, timedelta,time\n",
    "from streamlit_gsheets import GSheetsConnection\n",
    "from auxiliar.auxiliar import *\n",
    "from auxiliar.omie_aux import *"
   ]
  },
  {
   "cell_type": "markdown",
   "metadata": {},
   "source": [
    "# testar subir OS"
   ]
  },
  {
   "cell_type": "code",
   "execution_count": 2,
   "metadata": {},
   "outputs": [
    {
     "name": "stdout",
     "output_type": "stream",
     "text": [
      "Tamanho da base: (445, 20)\n"
     ]
    }
   ],
   "source": [
    "base_compilada = pd.read_csv(\"testes\\dados_testes.csv\")\n",
    "print(f\"Tamanho da base: {base_compilada.shape}\")\n"
   ]
  },
  {
   "cell_type": "code",
   "execution_count": null,
   "metadata": {},
   "outputs": [],
   "source": [
    "\n",
    "clientes_subidos = criar_clientes_selecionados(base_compilada)\n",
    "clientes_subidos = clientes_subidos.to_dict(orient='records')\n",
    "st.write(f\"{len(clientes_subidos)} clientes novos criados\")\n",
    "subir_dados_mongodb(\"log_clientes\",clientes_subidos)\n",
    "\n",
    "# st.write(\"Criando Ordens de Serviço...\")\n",
    "# os_subidos = criar_ordens_de_servico_da_planilha(base_compilada)\n",
    "# os_subidos_dic = os_subidos.to_dict(orient='records')\n",
    "# subir_dados_mongodb(\"log_os\",os_subidos_dic)\n",
    "\n",
    "# erros_mask = os_subidos[\"resposta\"].astype(str).str.contains(\"ERROR\", case=False, na=False)\n",
    "# ids_para_subir = os_subidos.loc[~erros_mask,\"os_id\"]\n",
    "# base_para_subir = dados_crm_df.loc[dados_crm_df['os_id'].isin(ids_para_subir)]\n",
    "# base_para_subir = base_para_subir.drop_duplicates()\n",
    "# base_para_subir_dic = base_para_subir.to_dict(orient='records')\n",
    "# subir_dados_mongodb(\"os_processados\",base_para_subir_dic)"
   ]
  },
  {
   "cell_type": "code",
   "execution_count": 3,
   "metadata": {},
   "outputs": [
    {
     "name": "stdout",
     "output_type": "stream",
     "text": [
      "Subindo OS: {'Cabecalho': {'cCodIntOS': '445359-01', 'cCodIntCli': 995654, 'cEtapa': '50', 'cCodParc': '000', 'nQtdeParc': 3}, 'InformacoesAdicionais': {'cDadosAdicNF': 'Serviços prestados - 445359-01', 'cCodCateg': '1.01.02', 'nCodCC': 2921709935.0, 'cNumPedido': '445359-01'}, 'InfoCadastro': {'dDtFat': '09/05/2025'}, 'Observacoes': {'cObsOS': 445359}, 'ServicosPrestados': [{'cDadosAdicItem': 'Serviço Prestado - 1228835', 'nCodServico': 2888047524.0, 'cCodServLC116': '6.02', 'nQtde': 1, 'nValUnit': 300.0, 'cRetemISS': 'N', 'nValorDesconto': 0, 'cTpDesconto': 'V'}]}\n"
     ]
    },
    {
     "data": {
      "text/plain": [
       "{'faultstring': 'ERROR: Conta Corrente não cadastrada para o Código [2921709935] !',\n",
       " 'faultcode': 'SOAP-ENV:Client-102'}"
      ]
     },
     "execution_count": 3,
     "metadata": {},
     "output_type": "execute_result"
    }
   ],
   "source": [
    "linha_teste = base_compilada.iloc[0]\n",
    "subir_linha_teste(linha_teste)"
   ]
  },
  {
   "cell_type": "code",
   "execution_count": null,
   "metadata": {},
   "outputs": [],
   "source": [
    "pagina_atual = 1\n",
    "api_secret = \"2fae495eb5679299260c3676fe88d291\"\n",
    "api_key = \"2485921847409\"\n",
    "\n",
    "pegar_os(pagina_atual, api_secret, api_key)"
   ]
  }
 ],
 "metadata": {
  "kernelspec": {
   "display_name": ".venv",
   "language": "python",
   "name": "python3"
  },
  "language_info": {
   "codemirror_mode": {
    "name": "ipython",
    "version": 3
   },
   "file_extension": ".py",
   "mimetype": "text/x-python",
   "name": "python",
   "nbconvert_exporter": "python",
   "pygments_lexer": "ipython3",
   "version": "3.11.9"
  }
 },
 "nbformat": 4,
 "nbformat_minor": 2
}
