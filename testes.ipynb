{
 "cells": [
  {
   "cell_type": "code",
   "execution_count": null,
   "metadata": {},
   "outputs": [],
   "source": [
    "import streamlit as st\n",
    "import pandas as pd\n",
    "from datetime import datetime, timedelta,time\n",
    "from streamlit_gsheets import GSheetsConnection\n",
    "from auxiliar.auxiliar import *"
   ]
  },
  {
   "cell_type": "code",
   "execution_count": null,
   "metadata": {},
   "outputs": [],
   "source": [
    "data_seletor = st.date_input(\n",
    "    \"Selecione a data\",\n",
    "    (three_days_ago, today),\n",
    "    format=\"DD/MM/YYYY\",\n",
    ")\n",
    "\n",
    "if len(data_seletor) == 2:\n",
    "    data_inicial = datetime.combine(data_seletor[0], time.min)\n",
    "    data_final = datetime.combine(data_seletor[1], time.max)\n",
    "else:\n",
    "    data_inicial = datetime.combine(data_seletor[0], time.min)\n",
    "    data_final = datetime.combine(data_seletor[0], time.max)\n",
    "\n",
    "query = {\n",
    "    \"billcharge_paidAt\": {\n",
    "        \"$gte\": data_inicial,\n",
    "        \"$lte\": data_final\n",
    "    }\n",
    "}\n",
    "\n",
    "os_processados = pegar_dados_mongodb(\"os_processados\",query=query)"
   ]
  },
  {
   "cell_type": "code",
   "execution_count": 4,
   "metadata": {},
   "outputs": [
    {
     "data": {
      "text/plain": [
       "Index(['quote_id', 'billCharge_id', 'customer_id', 'customer_name',\n",
       "       'store_name', 'quote_status', 'paymentMethod_name', 'billcharge_paidAt',\n",
       "       'bill_installmentsQuantity', 'bill_amount', 'servicos_json', 'os_id',\n",
       "       'id_conta_corrente', 'dados_cliente', 'isPaid', 'Tipo de Pagamento',\n",
       "       'billcharge_dueAt', 'amount', 'os_na_base',\n",
       "       'Selecionar notas para subir'],\n",
       "      dtype='object')"
      ]
     },
     "execution_count": 4,
     "metadata": {},
     "output_type": "execute_result"
    }
   ],
   "source": [
    "os_processados.columns"
   ]
  }
 ],
 "metadata": {
  "kernelspec": {
   "display_name": ".venv",
   "language": "python",
   "name": "python3"
  },
  "language_info": {
   "codemirror_mode": {
    "name": "ipython",
    "version": 3
   },
   "file_extension": ".py",
   "mimetype": "text/x-python",
   "name": "python",
   "nbconvert_exporter": "python",
   "pygments_lexer": "ipython3",
   "version": "3.12.3"
  }
 },
 "nbformat": 4,
 "nbformat_minor": 2
}
