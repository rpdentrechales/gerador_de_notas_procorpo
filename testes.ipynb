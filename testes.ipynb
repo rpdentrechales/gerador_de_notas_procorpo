{
 "cells": [
  {
   "cell_type": "code",
   "execution_count": 1,
   "metadata": {},
   "outputs": [],
   "source": [
    "import streamlit as st\n",
    "import pandas as pd\n",
    "from datetime import datetime, timedelta,time\n",
    "from streamlit_gsheets import GSheetsConnection\n",
    "from auxiliar.auxiliar import *\n",
    "from auxiliar.omie_aux import *"
   ]
  },
  {
   "cell_type": "code",
   "execution_count": 3,
   "metadata": {},
   "outputs": [
    {
     "name": "stderr",
     "output_type": "stream",
     "text": [
      "2025-03-26 13:14:16.412 Thread 'MainThread': missing ScriptRunContext! This warning can be ignored when running in bare mode.\n",
      "2025-03-26 13:14:16.415 Thread 'MainThread': missing ScriptRunContext! This warning can be ignored when running in bare mode.\n",
      "2025-03-26 13:14:16.417 Thread 'MainThread': missing ScriptRunContext! This warning can be ignored when running in bare mode.\n",
      "2025-03-26 13:14:16.831 Thread 'MainThread': missing ScriptRunContext! This warning can be ignored when running in bare mode.\n",
      "2025-03-26 13:14:16.832 Thread 'MainThread': missing ScriptRunContext! This warning can be ignored when running in bare mode.\n",
      "2025-03-26 13:14:16.834 No runtime found, using MemoryCacheStorageManager\n",
      "2025-03-26 13:14:16.839 No runtime found, using MemoryCacheStorageManager\n",
      "2025-03-26 13:14:16.844 Thread 'MainThread': missing ScriptRunContext! This warning can be ignored when running in bare mode.\n",
      "2025-03-26 13:14:16.845 Thread 'MainThread': missing ScriptRunContext! This warning can be ignored when running in bare mode.\n",
      "2025-03-26 13:14:16.847 Thread 'MainThread': missing ScriptRunContext! This warning can be ignored when running in bare mode.\n",
      "2025-03-26 13:14:17.348 Thread 'Thread-5': missing ScriptRunContext! This warning can be ignored when running in bare mode.\n",
      "2025-03-26 13:14:17.351 Thread 'Thread-5': missing ScriptRunContext! This warning can be ignored when running in bare mode.\n",
      "2025-03-26 13:14:17.920 Thread 'MainThread': missing ScriptRunContext! This warning can be ignored when running in bare mode.\n",
      "2025-03-26 13:14:17.922 Thread 'MainThread': missing ScriptRunContext! This warning can be ignored when running in bare mode.\n"
     ]
    },
    {
     "name": "stdout",
     "output_type": "stream",
     "text": [
      "BELO HORIZONTE - 1/1\n",
      "LONDRINA - 1/1\n",
      "COPACABANA - 1/1\n",
      "TIJUCA - 1/1\n",
      "CAMPINAS - 1/1\n",
      "IPIRANGA - 1/1\n",
      "ITAIM - 1/1\n",
      "JARDINS - 1/2\n",
      "JARDINS - 2/2\n",
      "LAPA - 1/1\n",
      "MOEMA - 1/1\n",
      "RIBEIRÃO PRETO - 1/1\n",
      "SANTO AMARO - 1/1\n",
      "SANTOS - 1/1\n",
      "SOROCABA - 1/1\n",
      "TATUAPÉ - 1/1\n",
      "TUCURUVI - 1/1\n",
      "MOOCA - 1/1\n",
      "OSASCO - 1/1\n",
      "ALPHAVILLE - 1/1\n",
      "SÃO BERNARDO - 1/1\n",
      "GUARULHOS - 1/1\n",
      "VILA MASCOTE - 1/1\n"
     ]
    }
   ],
   "source": [
    "clientes_omie = atualizar_base_clientes()"
   ]
  },
  {
   "cell_type": "code",
   "execution_count": 5,
   "metadata": {},
   "outputs": [],
   "source": [
    "clientes_mongo = pegar_dados_mongodb(\"id_clientes\")"
   ]
  },
  {
   "cell_type": "code",
   "execution_count": 6,
   "metadata": {},
   "outputs": [],
   "source": [
    "clientes_omie_df = pd.DataFrame(clientes_omie)"
   ]
  },
  {
   "cell_type": "code",
   "execution_count": 7,
   "metadata": {},
   "outputs": [],
   "source": [
    "list_of_index = clientes_mongo.sample(n=10).index\n",
    "\n",
    "droped_rows = clientes_mongo.iloc[list_of_index]\n",
    "\n",
    "droped_df = clientes_mongo.drop(list_of_index)"
   ]
  },
  {
   "cell_type": "code",
   "execution_count": null,
   "metadata": {},
   "outputs": [],
   "source": [
    "clientes_mongo.loc[clientes_mongo[\"codigo_cliente_integracao\"] == \"953889\"]"
   ]
  },
  {
   "cell_type": "code",
   "execution_count": 10,
   "metadata": {},
   "outputs": [
    {
     "data": {
      "text/html": [
       "<div>\n",
       "<style scoped>\n",
       "    .dataframe tbody tr th:only-of-type {\n",
       "        vertical-align: middle;\n",
       "    }\n",
       "\n",
       "    .dataframe tbody tr th {\n",
       "        vertical-align: top;\n",
       "    }\n",
       "\n",
       "    .dataframe thead th {\n",
       "        text-align: right;\n",
       "    }\n",
       "</style>\n",
       "<table border=\"1\" class=\"dataframe\">\n",
       "  <thead>\n",
       "    <tr style=\"text-align: right;\">\n",
       "      <th></th>\n",
       "      <th>unidade</th>\n",
       "      <th>codigo_cliente_integracao</th>\n",
       "    </tr>\n",
       "  </thead>\n",
       "  <tbody>\n",
       "    <tr>\n",
       "      <th>298</th>\n",
       "      <td>IPIRANGA</td>\n",
       "      <td>1024082</td>\n",
       "    </tr>\n",
       "    <tr>\n",
       "      <th>346</th>\n",
       "      <td>ITAIM</td>\n",
       "      <td>1025621</td>\n",
       "    </tr>\n",
       "    <tr>\n",
       "      <th>631</th>\n",
       "      <td>JARDINS</td>\n",
       "      <td>891510</td>\n",
       "    </tr>\n",
       "    <tr>\n",
       "      <th>810</th>\n",
       "      <td>MOEMA</td>\n",
       "      <td>944512</td>\n",
       "    </tr>\n",
       "    <tr>\n",
       "      <th>861</th>\n",
       "      <td>MOEMA</td>\n",
       "      <td>1025626</td>\n",
       "    </tr>\n",
       "    <tr>\n",
       "      <th>954</th>\n",
       "      <td>SANTO AMARO</td>\n",
       "      <td>1026605</td>\n",
       "    </tr>\n",
       "    <tr>\n",
       "      <th>992</th>\n",
       "      <td>SANTOS</td>\n",
       "      <td>957802</td>\n",
       "    </tr>\n",
       "    <tr>\n",
       "      <th>1093</th>\n",
       "      <td>TATUAPÉ</td>\n",
       "      <td>957132</td>\n",
       "    </tr>\n",
       "    <tr>\n",
       "      <th>1401</th>\n",
       "      <td>VILA MASCOTE</td>\n",
       "      <td>1023296</td>\n",
       "    </tr>\n",
       "  </tbody>\n",
       "</table>\n",
       "</div>"
      ],
      "text/plain": [
       "           unidade codigo_cliente_integracao\n",
       "298       IPIRANGA                   1024082\n",
       "346          ITAIM                   1025621\n",
       "631        JARDINS                    891510\n",
       "810          MOEMA                    944512\n",
       "861          MOEMA                   1025626\n",
       "954    SANTO AMARO                   1026605\n",
       "992         SANTOS                    957802\n",
       "1093       TATUAPÉ                    957132\n",
       "1401  VILA MASCOTE                   1023296"
      ]
     },
     "execution_count": 10,
     "metadata": {},
     "output_type": "execute_result"
    }
   ],
   "source": [
    "comparar"
   ]
  },
  {
   "cell_type": "code",
   "execution_count": 9,
   "metadata": {},
   "outputs": [
    {
     "name": "stderr",
     "output_type": "stream",
     "text": [
      "/tmp/ipykernel_15642/3338685922.py:1: SettingWithCopyWarning: \n",
      "A value is trying to be set on a copy of a slice from a DataFrame.\n",
      "Try using .loc[row_indexer,col_indexer] = value instead\n",
      "\n",
      "See the caveats in the documentation: https://pandas.pydata.org/pandas-docs/stable/user_guide/indexing.html#returning-a-view-versus-a-copy\n",
      "  droped_rows[\"isin\"] = droped_rows[\"codigo_cliente_integracao\"].isin(comparar[\"codigo_cliente_integracao\"])\n"
     ]
    },
    {
     "data": {
      "text/html": [
       "<div>\n",
       "<style scoped>\n",
       "    .dataframe tbody tr th:only-of-type {\n",
       "        vertical-align: middle;\n",
       "    }\n",
       "\n",
       "    .dataframe tbody tr th {\n",
       "        vertical-align: top;\n",
       "    }\n",
       "\n",
       "    .dataframe thead th {\n",
       "        text-align: right;\n",
       "    }\n",
       "</style>\n",
       "<table border=\"1\" class=\"dataframe\">\n",
       "  <thead>\n",
       "    <tr style=\"text-align: right;\">\n",
       "      <th></th>\n",
       "      <th>unidade</th>\n",
       "      <th>codigo_cliente_integracao</th>\n",
       "      <th>isin</th>\n",
       "    </tr>\n",
       "  </thead>\n",
       "  <tbody>\n",
       "    <tr>\n",
       "      <th>954</th>\n",
       "      <td>SANTO AMARO</td>\n",
       "      <td>1026605</td>\n",
       "      <td>True</td>\n",
       "    </tr>\n",
       "    <tr>\n",
       "      <th>992</th>\n",
       "      <td>SANTOS</td>\n",
       "      <td>957802</td>\n",
       "      <td>True</td>\n",
       "    </tr>\n",
       "    <tr>\n",
       "      <th>346</th>\n",
       "      <td>ITAIM</td>\n",
       "      <td>1025621</td>\n",
       "      <td>True</td>\n",
       "    </tr>\n",
       "    <tr>\n",
       "      <th>861</th>\n",
       "      <td>MOEMA</td>\n",
       "      <td>1025626</td>\n",
       "      <td>True</td>\n",
       "    </tr>\n",
       "    <tr>\n",
       "      <th>298</th>\n",
       "      <td>IPIRANGA</td>\n",
       "      <td>1024082</td>\n",
       "      <td>True</td>\n",
       "    </tr>\n",
       "    <tr>\n",
       "      <th>631</th>\n",
       "      <td>JARDINS</td>\n",
       "      <td>891510</td>\n",
       "      <td>True</td>\n",
       "    </tr>\n",
       "    <tr>\n",
       "      <th>13</th>\n",
       "      <td>BELO HORIZONTE</td>\n",
       "      <td>889187</td>\n",
       "      <td>False</td>\n",
       "    </tr>\n",
       "    <tr>\n",
       "      <th>1401</th>\n",
       "      <td>VILA MASCOTE</td>\n",
       "      <td>1023296</td>\n",
       "      <td>True</td>\n",
       "    </tr>\n",
       "    <tr>\n",
       "      <th>810</th>\n",
       "      <td>MOEMA</td>\n",
       "      <td>944512</td>\n",
       "      <td>True</td>\n",
       "    </tr>\n",
       "    <tr>\n",
       "      <th>1093</th>\n",
       "      <td>TATUAPÉ</td>\n",
       "      <td>957132</td>\n",
       "      <td>True</td>\n",
       "    </tr>\n",
       "  </tbody>\n",
       "</table>\n",
       "</div>"
      ],
      "text/plain": [
       "             unidade codigo_cliente_integracao   isin\n",
       "954      SANTO AMARO                   1026605   True\n",
       "992           SANTOS                    957802   True\n",
       "346            ITAIM                   1025621   True\n",
       "861            MOEMA                   1025626   True\n",
       "298         IPIRANGA                   1024082   True\n",
       "631          JARDINS                    891510   True\n",
       "13    BELO HORIZONTE                    889187  False\n",
       "1401    VILA MASCOTE                   1023296   True\n",
       "810            MOEMA                    944512   True\n",
       "1093         TATUAPÉ                    957132   True"
      ]
     },
     "execution_count": 9,
     "metadata": {},
     "output_type": "execute_result"
    }
   ],
   "source": [
    "droped_rows[\"isin\"] = droped_rows[\"codigo_cliente_integracao\"].isin(comparar[\"codigo_cliente_integracao\"])\n",
    "droped_rows"
   ]
  },
  {
   "cell_type": "code",
   "execution_count": null,
   "metadata": {},
   "outputs": [],
   "source": [
    "clientes_omie_df.shape"
   ]
  },
  {
   "cell_type": "code",
   "execution_count": null,
   "metadata": {},
   "outputs": [],
   "source": [
    "clientes_omie_df.drop_duplicates().shape"
   ]
  },
  {
   "cell_type": "code",
   "execution_count": null,
   "metadata": {},
   "outputs": [],
   "source": [
    "clientes_mongo = clientes_omie_df[]"
   ]
  },
  {
   "cell_type": "code",
   "execution_count": 11,
   "metadata": {},
   "outputs": [
    {
     "data": {
      "text/html": [
       "<div>\n",
       "<style scoped>\n",
       "    .dataframe tbody tr th:only-of-type {\n",
       "        vertical-align: middle;\n",
       "    }\n",
       "\n",
       "    .dataframe tbody tr th {\n",
       "        vertical-align: top;\n",
       "    }\n",
       "\n",
       "    .dataframe thead th {\n",
       "        text-align: right;\n",
       "    }\n",
       "</style>\n",
       "<table border=\"1\" class=\"dataframe\">\n",
       "  <thead>\n",
       "    <tr style=\"text-align: right;\">\n",
       "      <th></th>\n",
       "      <th>unidade</th>\n",
       "      <th>codigo_cliente_integracao</th>\n",
       "      <th>_id</th>\n",
       "    </tr>\n",
       "  </thead>\n",
       "  <tbody>\n",
       "    <tr>\n",
       "      <th>13</th>\n",
       "      <td>BELO HORIZONTE</td>\n",
       "      <td>889187</td>\n",
       "      <td>67e427e47159c98b46864e32</td>\n",
       "    </tr>\n",
       "    <tr>\n",
       "      <th>1327</th>\n",
       "      <td>ALPHAVILLE</td>\n",
       "      <td>889187</td>\n",
       "      <td>67e427e47159c98b46865354</td>\n",
       "    </tr>\n",
       "  </tbody>\n",
       "</table>\n",
       "</div>"
      ],
      "text/plain": [
       "             unidade codigo_cliente_integracao                       _id\n",
       "13    BELO HORIZONTE                    889187  67e427e47159c98b46864e32\n",
       "1327      ALPHAVILLE                    889187  67e427e47159c98b46865354"
      ]
     },
     "execution_count": 11,
     "metadata": {},
     "output_type": "execute_result"
    }
   ],
   "source": [
    "clientes_omie_df.loc[clientes_omie_df[\"codigo_cliente_integracao\"] == \"889187\"]"
   ]
  },
  {
   "cell_type": "code",
   "execution_count": null,
   "metadata": {},
   "outputs": [
    {
     "data": {
      "text/html": [
       "<div>\n",
       "<style scoped>\n",
       "    .dataframe tbody tr th:only-of-type {\n",
       "        vertical-align: middle;\n",
       "    }\n",
       "\n",
       "    .dataframe tbody tr th {\n",
       "        vertical-align: top;\n",
       "    }\n",
       "\n",
       "    .dataframe thead th {\n",
       "        text-align: right;\n",
       "    }\n",
       "</style>\n",
       "<table border=\"1\" class=\"dataframe\">\n",
       "  <thead>\n",
       "    <tr style=\"text-align: right;\">\n",
       "      <th></th>\n",
       "      <th>unidade</th>\n",
       "      <th>codigo_cliente_integracao</th>\n",
       "      <th>_id</th>\n",
       "    </tr>\n",
       "  </thead>\n",
       "  <tbody>\n",
       "    <tr>\n",
       "      <th>13</th>\n",
       "      <td>BELO HORIZONTE</td>\n",
       "      <td>889187</td>\n",
       "      <td>67e427e47159c98b46864e32</td>\n",
       "    </tr>\n",
       "    <tr>\n",
       "      <th>298</th>\n",
       "      <td>IPIRANGA</td>\n",
       "      <td>1024082</td>\n",
       "      <td>67e427e47159c98b46864f4f</td>\n",
       "    </tr>\n",
       "    <tr>\n",
       "      <th>346</th>\n",
       "      <td>ITAIM</td>\n",
       "      <td>1025621</td>\n",
       "      <td>67e427e47159c98b46864f7f</td>\n",
       "    </tr>\n",
       "    <tr>\n",
       "      <th>631</th>\n",
       "      <td>JARDINS</td>\n",
       "      <td>891510</td>\n",
       "      <td>67e427e47159c98b4686509c</td>\n",
       "    </tr>\n",
       "    <tr>\n",
       "      <th>810</th>\n",
       "      <td>MOEMA</td>\n",
       "      <td>944512</td>\n",
       "      <td>67e427e47159c98b4686514f</td>\n",
       "    </tr>\n",
       "    <tr>\n",
       "      <th>861</th>\n",
       "      <td>MOEMA</td>\n",
       "      <td>1025626</td>\n",
       "      <td>67e427e47159c98b46865182</td>\n",
       "    </tr>\n",
       "    <tr>\n",
       "      <th>954</th>\n",
       "      <td>SANTO AMARO</td>\n",
       "      <td>1026605</td>\n",
       "      <td>67e427e47159c98b468651df</td>\n",
       "    </tr>\n",
       "    <tr>\n",
       "      <th>992</th>\n",
       "      <td>SANTOS</td>\n",
       "      <td>957802</td>\n",
       "      <td>67e427e47159c98b46865205</td>\n",
       "    </tr>\n",
       "    <tr>\n",
       "      <th>1093</th>\n",
       "      <td>TATUAPÉ</td>\n",
       "      <td>957132</td>\n",
       "      <td>67e427e47159c98b4686526a</td>\n",
       "    </tr>\n",
       "    <tr>\n",
       "      <th>1401</th>\n",
       "      <td>VILA MASCOTE</td>\n",
       "      <td>1023296</td>\n",
       "      <td>67e427e47159c98b4686539e</td>\n",
       "    </tr>\n",
       "  </tbody>\n",
       "</table>\n",
       "</div>"
      ],
      "text/plain": [
       "             unidade codigo_cliente_integracao                       _id\n",
       "13    BELO HORIZONTE                    889187  67e427e47159c98b46864e32\n",
       "298         IPIRANGA                   1024082  67e427e47159c98b46864f4f\n",
       "346            ITAIM                   1025621  67e427e47159c98b46864f7f\n",
       "631          JARDINS                    891510  67e427e47159c98b4686509c\n",
       "810            MOEMA                    944512  67e427e47159c98b4686514f\n",
       "861            MOEMA                   1025626  67e427e47159c98b46865182\n",
       "954      SANTO AMARO                   1026605  67e427e47159c98b468651df\n",
       "992           SANTOS                    957802  67e427e47159c98b46865205\n",
       "1093         TATUAPÉ                    957132  67e427e47159c98b4686526a\n",
       "1401    VILA MASCOTE                   1023296  67e427e47159c98b4686539e"
      ]
     },
     "execution_count": 12,
     "metadata": {},
     "output_type": "execute_result"
    }
   ],
   "source": [
    "merged = clientes_omie_df.merge(droped_df, on=['unidade', 'codigo_cliente_integracao'], how='left', indicator=True)\n",
    "missing_rows = merged[merged['_merge'] == 'left_only'].drop(columns='_merge')\n",
    "missing_rows"
   ]
  },
  {
   "cell_type": "code",
   "execution_count": null,
   "metadata": {},
   "outputs": [],
   "source": [
    "len(clientes_omie)"
   ]
  },
  {
   "cell_type": "code",
   "execution_count": 4,
   "metadata": {},
   "outputs": [
    {
     "data": {
      "text/plain": [
       "InsertManyResult([ObjectId('67e427e47159c98b46864e25'), ObjectId('67e427e47159c98b46864e26'), ObjectId('67e427e47159c98b46864e27'), ObjectId('67e427e47159c98b46864e28'), ObjectId('67e427e47159c98b46864e29'), ObjectId('67e427e47159c98b46864e2a'), ObjectId('67e427e47159c98b46864e2b'), ObjectId('67e427e47159c98b46864e2c'), ObjectId('67e427e47159c98b46864e2d'), ObjectId('67e427e47159c98b46864e2e'), ObjectId('67e427e47159c98b46864e2f'), ObjectId('67e427e47159c98b46864e30'), ObjectId('67e427e47159c98b46864e31'), ObjectId('67e427e47159c98b46864e32'), ObjectId('67e427e47159c98b46864e33'), ObjectId('67e427e47159c98b46864e34'), ObjectId('67e427e47159c98b46864e35'), ObjectId('67e427e47159c98b46864e36'), ObjectId('67e427e47159c98b46864e37'), ObjectId('67e427e47159c98b46864e38'), ObjectId('67e427e47159c98b46864e39'), ObjectId('67e427e47159c98b46864e3a'), ObjectId('67e427e47159c98b46864e3b'), ObjectId('67e427e47159c98b46864e3c'), ObjectId('67e427e47159c98b46864e3d'), ObjectId('67e427e47159c98b46864e3e'), ObjectId('67e427e47159c98b46864e3f'), ObjectId('67e427e47159c98b46864e40'), ObjectId('67e427e47159c98b46864e41'), ObjectId('67e427e47159c98b46864e42'), ObjectId('67e427e47159c98b46864e43'), ObjectId('67e427e47159c98b46864e44'), ObjectId('67e427e47159c98b46864e45'), ObjectId('67e427e47159c98b46864e46'), ObjectId('67e427e47159c98b46864e47'), ObjectId('67e427e47159c98b46864e48'), ObjectId('67e427e47159c98b46864e49'), ObjectId('67e427e47159c98b46864e4a'), ObjectId('67e427e47159c98b46864e4b'), ObjectId('67e427e47159c98b46864e4c'), ObjectId('67e427e47159c98b46864e4d'), ObjectId('67e427e47159c98b46864e4e'), ObjectId('67e427e47159c98b46864e4f'), ObjectId('67e427e47159c98b46864e50'), ObjectId('67e427e47159c98b46864e51'), ObjectId('67e427e47159c98b46864e52'), ObjectId('67e427e47159c98b46864e53'), ObjectId('67e427e47159c98b46864e54'), ObjectId('67e427e47159c98b46864e55'), ObjectId('67e427e47159c98b46864e56'), ObjectId('67e427e47159c98b46864e57'), ObjectId('67e427e47159c98b46864e58'), ObjectId('67e427e47159c98b46864e59'), ObjectId('67e427e47159c98b46864e5a'), ObjectId('67e427e47159c98b46864e5b'), ObjectId('67e427e47159c98b46864e5c'), ObjectId('67e427e47159c98b46864e5d'), ObjectId('67e427e47159c98b46864e5e'), ObjectId('67e427e47159c98b46864e5f'), ObjectId('67e427e47159c98b46864e60'), ObjectId('67e427e47159c98b46864e61'), ObjectId('67e427e47159c98b46864e62'), ObjectId('67e427e47159c98b46864e63'), ObjectId('67e427e47159c98b46864e64'), ObjectId('67e427e47159c98b46864e65'), ObjectId('67e427e47159c98b46864e66'), ObjectId('67e427e47159c98b46864e67'), ObjectId('67e427e47159c98b46864e68'), ObjectId('67e427e47159c98b46864e69'), ObjectId('67e427e47159c98b46864e6a'), ObjectId('67e427e47159c98b46864e6b'), ObjectId('67e427e47159c98b46864e6c'), ObjectId('67e427e47159c98b46864e6d'), ObjectId('67e427e47159c98b46864e6e'), ObjectId('67e427e47159c98b46864e6f'), ObjectId('67e427e47159c98b46864e70'), ObjectId('67e427e47159c98b46864e71'), ObjectId('67e427e47159c98b46864e72'), ObjectId('67e427e47159c98b46864e73'), ObjectId('67e427e47159c98b46864e74'), ObjectId('67e427e47159c98b46864e75'), ObjectId('67e427e47159c98b46864e76'), ObjectId('67e427e47159c98b46864e77'), ObjectId('67e427e47159c98b46864e78'), ObjectId('67e427e47159c98b46864e79'), ObjectId('67e427e47159c98b46864e7a'), ObjectId('67e427e47159c98b46864e7b'), ObjectId('67e427e47159c98b46864e7c'), ObjectId('67e427e47159c98b46864e7d'), ObjectId('67e427e47159c98b46864e7e'), ObjectId('67e427e47159c98b46864e7f'), ObjectId('67e427e47159c98b46864e80'), ObjectId('67e427e47159c98b46864e81'), ObjectId('67e427e47159c98b46864e82'), ObjectId('67e427e47159c98b46864e83'), ObjectId('67e427e47159c98b46864e84'), ObjectId('67e427e47159c98b46864e85'), ObjectId('67e427e47159c98b46864e86'), ObjectId('67e427e47159c98b46864e87'), ObjectId('67e427e47159c98b46864e88'), ObjectId('67e427e47159c98b46864e89'), ObjectId('67e427e47159c98b46864e8a'), ObjectId('67e427e47159c98b46864e8b'), ObjectId('67e427e47159c98b46864e8c'), ObjectId('67e427e47159c98b46864e8d'), ObjectId('67e427e47159c98b46864e8e'), ObjectId('67e427e47159c98b46864e8f'), ObjectId('67e427e47159c98b46864e90'), ObjectId('67e427e47159c98b46864e91'), ObjectId('67e427e47159c98b46864e92'), ObjectId('67e427e47159c98b46864e93'), ObjectId('67e427e47159c98b46864e94'), ObjectId('67e427e47159c98b46864e95'), ObjectId('67e427e47159c98b46864e96'), ObjectId('67e427e47159c98b46864e97'), ObjectId('67e427e47159c98b46864e98'), ObjectId('67e427e47159c98b46864e99'), ObjectId('67e427e47159c98b46864e9a'), ObjectId('67e427e47159c98b46864e9b'), ObjectId('67e427e47159c98b46864e9c'), ObjectId('67e427e47159c98b46864e9d'), ObjectId('67e427e47159c98b46864e9e'), ObjectId('67e427e47159c98b46864e9f'), ObjectId('67e427e47159c98b46864ea0'), ObjectId('67e427e47159c98b46864ea1'), ObjectId('67e427e47159c98b46864ea2'), ObjectId('67e427e47159c98b46864ea3'), ObjectId('67e427e47159c98b46864ea4'), ObjectId('67e427e47159c98b46864ea5'), ObjectId('67e427e47159c98b46864ea6'), ObjectId('67e427e47159c98b46864ea7'), ObjectId('67e427e47159c98b46864ea8'), ObjectId('67e427e47159c98b46864ea9'), ObjectId('67e427e47159c98b46864eaa'), ObjectId('67e427e47159c98b46864eab'), ObjectId('67e427e47159c98b46864eac'), ObjectId('67e427e47159c98b46864ead'), ObjectId('67e427e47159c98b46864eae'), ObjectId('67e427e47159c98b46864eaf'), ObjectId('67e427e47159c98b46864eb0'), ObjectId('67e427e47159c98b46864eb1'), ObjectId('67e427e47159c98b46864eb2'), ObjectId('67e427e47159c98b46864eb3'), ObjectId('67e427e47159c98b46864eb4'), ObjectId('67e427e47159c98b46864eb5'), ObjectId('67e427e47159c98b46864eb6'), ObjectId('67e427e47159c98b46864eb7'), ObjectId('67e427e47159c98b46864eb8'), ObjectId('67e427e47159c98b46864eb9'), ObjectId('67e427e47159c98b46864eba'), ObjectId('67e427e47159c98b46864ebb'), ObjectId('67e427e47159c98b46864ebc'), ObjectId('67e427e47159c98b46864ebd'), ObjectId('67e427e47159c98b46864ebe'), ObjectId('67e427e47159c98b46864ebf'), ObjectId('67e427e47159c98b46864ec0'), ObjectId('67e427e47159c98b46864ec1'), ObjectId('67e427e47159c98b46864ec2'), ObjectId('67e427e47159c98b46864ec3'), ObjectId('67e427e47159c98b46864ec4'), ObjectId('67e427e47159c98b46864ec5'), ObjectId('67e427e47159c98b46864ec6'), ObjectId('67e427e47159c98b46864ec7'), ObjectId('67e427e47159c98b46864ec8'), ObjectId('67e427e47159c98b46864ec9'), ObjectId('67e427e47159c98b46864eca'), ObjectId('67e427e47159c98b46864ecb'), ObjectId('67e427e47159c98b46864ecc'), ObjectId('67e427e47159c98b46864ecd'), ObjectId('67e427e47159c98b46864ece'), ObjectId('67e427e47159c98b46864ecf'), ObjectId('67e427e47159c98b46864ed0'), ObjectId('67e427e47159c98b46864ed1'), ObjectId('67e427e47159c98b46864ed2'), ObjectId('67e427e47159c98b46864ed3'), ObjectId('67e427e47159c98b46864ed4'), ObjectId('67e427e47159c98b46864ed5'), ObjectId('67e427e47159c98b46864ed6'), ObjectId('67e427e47159c98b46864ed7'), ObjectId('67e427e47159c98b46864ed8'), ObjectId('67e427e47159c98b46864ed9'), ObjectId('67e427e47159c98b46864eda'), ObjectId('67e427e47159c98b46864edb'), ObjectId('67e427e47159c98b46864edc'), ObjectId('67e427e47159c98b46864edd'), ObjectId('67e427e47159c98b46864ede'), ObjectId('67e427e47159c98b46864edf'), ObjectId('67e427e47159c98b46864ee0'), ObjectId('67e427e47159c98b46864ee1'), ObjectId('67e427e47159c98b46864ee2'), ObjectId('67e427e47159c98b46864ee3'), ObjectId('67e427e47159c98b46864ee4'), ObjectId('67e427e47159c98b46864ee5'), ObjectId('67e427e47159c98b46864ee6'), ObjectId('67e427e47159c98b46864ee7'), ObjectId('67e427e47159c98b46864ee8'), ObjectId('67e427e47159c98b46864ee9'), ObjectId('67e427e47159c98b46864eea'), ObjectId('67e427e47159c98b46864eeb'), ObjectId('67e427e47159c98b46864eec'), ObjectId('67e427e47159c98b46864eed'), ObjectId('67e427e47159c98b46864eee'), ObjectId('67e427e47159c98b46864eef'), ObjectId('67e427e47159c98b46864ef0'), ObjectId('67e427e47159c98b46864ef1'), ObjectId('67e427e47159c98b46864ef2'), ObjectId('67e427e47159c98b46864ef3'), ObjectId('67e427e47159c98b46864ef4'), ObjectId('67e427e47159c98b46864ef5'), ObjectId('67e427e47159c98b46864ef6'), ObjectId('67e427e47159c98b46864ef7'), ObjectId('67e427e47159c98b46864ef8'), ObjectId('67e427e47159c98b46864ef9'), ObjectId('67e427e47159c98b46864efa'), ObjectId('67e427e47159c98b46864efb'), ObjectId('67e427e47159c98b46864efc'), ObjectId('67e427e47159c98b46864efd'), ObjectId('67e427e47159c98b46864efe'), ObjectId('67e427e47159c98b46864eff'), ObjectId('67e427e47159c98b46864f00'), ObjectId('67e427e47159c98b46864f01'), ObjectId('67e427e47159c98b46864f02'), ObjectId('67e427e47159c98b46864f03'), ObjectId('67e427e47159c98b46864f04'), ObjectId('67e427e47159c98b46864f05'), ObjectId('67e427e47159c98b46864f06'), ObjectId('67e427e47159c98b46864f07'), ObjectId('67e427e47159c98b46864f08'), ObjectId('67e427e47159c98b46864f09'), ObjectId('67e427e47159c98b46864f0a'), ObjectId('67e427e47159c98b46864f0b'), ObjectId('67e427e47159c98b46864f0c'), ObjectId('67e427e47159c98b46864f0d'), ObjectId('67e427e47159c98b46864f0e'), ObjectId('67e427e47159c98b46864f0f'), ObjectId('67e427e47159c98b46864f10'), ObjectId('67e427e47159c98b46864f11'), ObjectId('67e427e47159c98b46864f12'), ObjectId('67e427e47159c98b46864f13'), ObjectId('67e427e47159c98b46864f14'), ObjectId('67e427e47159c98b46864f15'), ObjectId('67e427e47159c98b46864f16'), ObjectId('67e427e47159c98b46864f17'), ObjectId('67e427e47159c98b46864f18'), ObjectId('67e427e47159c98b46864f19'), ObjectId('67e427e47159c98b46864f1a'), ObjectId('67e427e47159c98b46864f1b'), ObjectId('67e427e47159c98b46864f1c'), ObjectId('67e427e47159c98b46864f1d'), ObjectId('67e427e47159c98b46864f1e'), ObjectId('67e427e47159c98b46864f1f'), ObjectId('67e427e47159c98b46864f20'), ObjectId('67e427e47159c98b46864f21'), ObjectId('67e427e47159c98b46864f22'), ObjectId('67e427e47159c98b46864f23'), ObjectId('67e427e47159c98b46864f24'), ObjectId('67e427e47159c98b46864f25'), ObjectId('67e427e47159c98b46864f26'), ObjectId('67e427e47159c98b46864f27'), ObjectId('67e427e47159c98b46864f28'), ObjectId('67e427e47159c98b46864f29'), ObjectId('67e427e47159c98b46864f2a'), ObjectId('67e427e47159c98b46864f2b'), ObjectId('67e427e47159c98b46864f2c'), ObjectId('67e427e47159c98b46864f2d'), ObjectId('67e427e47159c98b46864f2e'), ObjectId('67e427e47159c98b46864f2f'), ObjectId('67e427e47159c98b46864f30'), ObjectId('67e427e47159c98b46864f31'), ObjectId('67e427e47159c98b46864f32'), ObjectId('67e427e47159c98b46864f33'), ObjectId('67e427e47159c98b46864f34'), ObjectId('67e427e47159c98b46864f35'), ObjectId('67e427e47159c98b46864f36'), ObjectId('67e427e47159c98b46864f37'), ObjectId('67e427e47159c98b46864f38'), ObjectId('67e427e47159c98b46864f39'), ObjectId('67e427e47159c98b46864f3a'), ObjectId('67e427e47159c98b46864f3b'), ObjectId('67e427e47159c98b46864f3c'), ObjectId('67e427e47159c98b46864f3d'), ObjectId('67e427e47159c98b46864f3e'), ObjectId('67e427e47159c98b46864f3f'), ObjectId('67e427e47159c98b46864f40'), ObjectId('67e427e47159c98b46864f41'), ObjectId('67e427e47159c98b46864f42'), ObjectId('67e427e47159c98b46864f43'), ObjectId('67e427e47159c98b46864f44'), ObjectId('67e427e47159c98b46864f45'), ObjectId('67e427e47159c98b46864f46'), ObjectId('67e427e47159c98b46864f47'), ObjectId('67e427e47159c98b46864f48'), ObjectId('67e427e47159c98b46864f49'), ObjectId('67e427e47159c98b46864f4a'), ObjectId('67e427e47159c98b46864f4b'), ObjectId('67e427e47159c98b46864f4c'), ObjectId('67e427e47159c98b46864f4d'), ObjectId('67e427e47159c98b46864f4e'), ObjectId('67e427e47159c98b46864f4f'), ObjectId('67e427e47159c98b46864f50'), ObjectId('67e427e47159c98b46864f51'), ObjectId('67e427e47159c98b46864f52'), ObjectId('67e427e47159c98b46864f53'), ObjectId('67e427e47159c98b46864f54'), ObjectId('67e427e47159c98b46864f55'), ObjectId('67e427e47159c98b46864f56'), ObjectId('67e427e47159c98b46864f57'), ObjectId('67e427e47159c98b46864f58'), ObjectId('67e427e47159c98b46864f59'), ObjectId('67e427e47159c98b46864f5a'), ObjectId('67e427e47159c98b46864f5b'), ObjectId('67e427e47159c98b46864f5c'), ObjectId('67e427e47159c98b46864f5d'), ObjectId('67e427e47159c98b46864f5e'), ObjectId('67e427e47159c98b46864f5f'), ObjectId('67e427e47159c98b46864f60'), ObjectId('67e427e47159c98b46864f61'), ObjectId('67e427e47159c98b46864f62'), ObjectId('67e427e47159c98b46864f63'), ObjectId('67e427e47159c98b46864f64'), ObjectId('67e427e47159c98b46864f65'), ObjectId('67e427e47159c98b46864f66'), ObjectId('67e427e47159c98b46864f67'), ObjectId('67e427e47159c98b46864f68'), ObjectId('67e427e47159c98b46864f69'), ObjectId('67e427e47159c98b46864f6a'), ObjectId('67e427e47159c98b46864f6b'), ObjectId('67e427e47159c98b46864f6c'), ObjectId('67e427e47159c98b46864f6d'), ObjectId('67e427e47159c98b46864f6e'), ObjectId('67e427e47159c98b46864f6f'), ObjectId('67e427e47159c98b46864f70'), ObjectId('67e427e47159c98b46864f71'), ObjectId('67e427e47159c98b46864f72'), ObjectId('67e427e47159c98b46864f73'), ObjectId('67e427e47159c98b46864f74'), ObjectId('67e427e47159c98b46864f75'), ObjectId('67e427e47159c98b46864f76'), ObjectId('67e427e47159c98b46864f77'), ObjectId('67e427e47159c98b46864f78'), ObjectId('67e427e47159c98b46864f79'), ObjectId('67e427e47159c98b46864f7a'), ObjectId('67e427e47159c98b46864f7b'), ObjectId('67e427e47159c98b46864f7c'), ObjectId('67e427e47159c98b46864f7d'), ObjectId('67e427e47159c98b46864f7e'), ObjectId('67e427e47159c98b46864f7f'), ObjectId('67e427e47159c98b46864f80'), ObjectId('67e427e47159c98b46864f81'), ObjectId('67e427e47159c98b46864f82'), ObjectId('67e427e47159c98b46864f83'), ObjectId('67e427e47159c98b46864f84'), ObjectId('67e427e47159c98b46864f85'), ObjectId('67e427e47159c98b46864f86'), ObjectId('67e427e47159c98b46864f87'), ObjectId('67e427e47159c98b46864f88'), ObjectId('67e427e47159c98b46864f89'), ObjectId('67e427e47159c98b46864f8a'), ObjectId('67e427e47159c98b46864f8b'), ObjectId('67e427e47159c98b46864f8c'), ObjectId('67e427e47159c98b46864f8d'), ObjectId('67e427e47159c98b46864f8e'), ObjectId('67e427e47159c98b46864f8f'), ObjectId('67e427e47159c98b46864f90'), ObjectId('67e427e47159c98b46864f91'), ObjectId('67e427e47159c98b46864f92'), ObjectId('67e427e47159c98b46864f93'), ObjectId('67e427e47159c98b46864f94'), ObjectId('67e427e47159c98b46864f95'), ObjectId('67e427e47159c98b46864f96'), ObjectId('67e427e47159c98b46864f97'), ObjectId('67e427e47159c98b46864f98'), ObjectId('67e427e47159c98b46864f99'), ObjectId('67e427e47159c98b46864f9a'), ObjectId('67e427e47159c98b46864f9b'), ObjectId('67e427e47159c98b46864f9c'), ObjectId('67e427e47159c98b46864f9d'), ObjectId('67e427e47159c98b46864f9e'), ObjectId('67e427e47159c98b46864f9f'), ObjectId('67e427e47159c98b46864fa0'), ObjectId('67e427e47159c98b46864fa1'), ObjectId('67e427e47159c98b46864fa2'), ObjectId('67e427e47159c98b46864fa3'), ObjectId('67e427e47159c98b46864fa4'), ObjectId('67e427e47159c98b46864fa5'), ObjectId('67e427e47159c98b46864fa6'), ObjectId('67e427e47159c98b46864fa7'), ObjectId('67e427e47159c98b46864fa8'), ObjectId('67e427e47159c98b46864fa9'), ObjectId('67e427e47159c98b46864faa'), ObjectId('67e427e47159c98b46864fab'), ObjectId('67e427e47159c98b46864fac'), ObjectId('67e427e47159c98b46864fad'), ObjectId('67e427e47159c98b46864fae'), ObjectId('67e427e47159c98b46864faf'), ObjectId('67e427e47159c98b46864fb0'), ObjectId('67e427e47159c98b46864fb1'), ObjectId('67e427e47159c98b46864fb2'), ObjectId('67e427e47159c98b46864fb3'), ObjectId('67e427e47159c98b46864fb4'), ObjectId('67e427e47159c98b46864fb5'), ObjectId('67e427e47159c98b46864fb6'), ObjectId('67e427e47159c98b46864fb7'), ObjectId('67e427e47159c98b46864fb8'), ObjectId('67e427e47159c98b46864fb9'), ObjectId('67e427e47159c98b46864fba'), ObjectId('67e427e47159c98b46864fbb'), ObjectId('67e427e47159c98b46864fbc'), ObjectId('67e427e47159c98b46864fbd'), ObjectId('67e427e47159c98b46864fbe'), ObjectId('67e427e47159c98b46864fbf'), ObjectId('67e427e47159c98b46864fc0'), ObjectId('67e427e47159c98b46864fc1'), ObjectId('67e427e47159c98b46864fc2'), ObjectId('67e427e47159c98b46864fc3'), ObjectId('67e427e47159c98b46864fc4'), ObjectId('67e427e47159c98b46864fc5'), ObjectId('67e427e47159c98b46864fc6'), ObjectId('67e427e47159c98b46864fc7'), ObjectId('67e427e47159c98b46864fc8'), ObjectId('67e427e47159c98b46864fc9'), ObjectId('67e427e47159c98b46864fca'), ObjectId('67e427e47159c98b46864fcb'), ObjectId('67e427e47159c98b46864fcc'), ObjectId('67e427e47159c98b46864fcd'), ObjectId('67e427e47159c98b46864fce'), ObjectId('67e427e47159c98b46864fcf'), ObjectId('67e427e47159c98b46864fd0'), ObjectId('67e427e47159c98b46864fd1'), ObjectId('67e427e47159c98b46864fd2'), ObjectId('67e427e47159c98b46864fd3'), ObjectId('67e427e47159c98b46864fd4'), ObjectId('67e427e47159c98b46864fd5'), ObjectId('67e427e47159c98b46864fd6'), ObjectId('67e427e47159c98b46864fd7'), ObjectId('67e427e47159c98b46864fd8'), ObjectId('67e427e47159c98b46864fd9'), ObjectId('67e427e47159c98b46864fda'), ObjectId('67e427e47159c98b46864fdb'), ObjectId('67e427e47159c98b46864fdc'), ObjectId('67e427e47159c98b46864fdd'), ObjectId('67e427e47159c98b46864fde'), ObjectId('67e427e47159c98b46864fdf'), ObjectId('67e427e47159c98b46864fe0'), ObjectId('67e427e47159c98b46864fe1'), ObjectId('67e427e47159c98b46864fe2'), ObjectId('67e427e47159c98b46864fe3'), ObjectId('67e427e47159c98b46864fe4'), ObjectId('67e427e47159c98b46864fe5'), ObjectId('67e427e47159c98b46864fe6'), ObjectId('67e427e47159c98b46864fe7'), ObjectId('67e427e47159c98b46864fe8'), ObjectId('67e427e47159c98b46864fe9'), ObjectId('67e427e47159c98b46864fea'), ObjectId('67e427e47159c98b46864feb'), ObjectId('67e427e47159c98b46864fec'), ObjectId('67e427e47159c98b46864fed'), ObjectId('67e427e47159c98b46864fee'), ObjectId('67e427e47159c98b46864fef'), ObjectId('67e427e47159c98b46864ff0'), ObjectId('67e427e47159c98b46864ff1'), ObjectId('67e427e47159c98b46864ff2'), ObjectId('67e427e47159c98b46864ff3'), ObjectId('67e427e47159c98b46864ff4'), ObjectId('67e427e47159c98b46864ff5'), ObjectId('67e427e47159c98b46864ff6'), ObjectId('67e427e47159c98b46864ff7'), ObjectId('67e427e47159c98b46864ff8'), ObjectId('67e427e47159c98b46864ff9'), ObjectId('67e427e47159c98b46864ffa'), ObjectId('67e427e47159c98b46864ffb'), ObjectId('67e427e47159c98b46864ffc'), ObjectId('67e427e47159c98b46864ffd'), ObjectId('67e427e47159c98b46864ffe'), ObjectId('67e427e47159c98b46864fff'), ObjectId('67e427e47159c98b46865000'), ObjectId('67e427e47159c98b46865001'), ObjectId('67e427e47159c98b46865002'), ObjectId('67e427e47159c98b46865003'), ObjectId('67e427e47159c98b46865004'), ObjectId('67e427e47159c98b46865005'), ObjectId('67e427e47159c98b46865006'), ObjectId('67e427e47159c98b46865007'), ObjectId('67e427e47159c98b46865008'), ObjectId('67e427e47159c98b46865009'), ObjectId('67e427e47159c98b4686500a'), ObjectId('67e427e47159c98b4686500b'), ObjectId('67e427e47159c98b4686500c'), ObjectId('67e427e47159c98b4686500d'), ObjectId('67e427e47159c98b4686500e'), ObjectId('67e427e47159c98b4686500f'), ObjectId('67e427e47159c98b46865010'), ObjectId('67e427e47159c98b46865011'), ObjectId('67e427e47159c98b46865012'), ObjectId('67e427e47159c98b46865013'), ObjectId('67e427e47159c98b46865014'), ObjectId('67e427e47159c98b46865015'), ObjectId('67e427e47159c98b46865016'), ObjectId('67e427e47159c98b46865017'), ObjectId('67e427e47159c98b46865018'), ObjectId('67e427e47159c98b46865019'), ObjectId('67e427e47159c98b4686501a'), ObjectId('67e427e47159c98b4686501b'), ObjectId('67e427e47159c98b4686501c'), ObjectId('67e427e47159c98b4686501d'), ObjectId('67e427e47159c98b4686501e'), ObjectId('67e427e47159c98b4686501f'), ObjectId('67e427e47159c98b46865020'), ObjectId('67e427e47159c98b46865021'), ObjectId('67e427e47159c98b46865022'), ObjectId('67e427e47159c98b46865023'), ObjectId('67e427e47159c98b46865024'), ObjectId('67e427e47159c98b46865025'), ObjectId('67e427e47159c98b46865026'), ObjectId('67e427e47159c98b46865027'), ObjectId('67e427e47159c98b46865028'), ObjectId('67e427e47159c98b46865029'), ObjectId('67e427e47159c98b4686502a'), ObjectId('67e427e47159c98b4686502b'), ObjectId('67e427e47159c98b4686502c'), ObjectId('67e427e47159c98b4686502d'), ObjectId('67e427e47159c98b4686502e'), ObjectId('67e427e47159c98b4686502f'), ObjectId('67e427e47159c98b46865030'), ObjectId('67e427e47159c98b46865031'), ObjectId('67e427e47159c98b46865032'), ObjectId('67e427e47159c98b46865033'), ObjectId('67e427e47159c98b46865034'), ObjectId('67e427e47159c98b46865035'), ObjectId('67e427e47159c98b46865036'), ObjectId('67e427e47159c98b46865037'), ObjectId('67e427e47159c98b46865038'), ObjectId('67e427e47159c98b46865039'), ObjectId('67e427e47159c98b4686503a'), ObjectId('67e427e47159c98b4686503b'), ObjectId('67e427e47159c98b4686503c'), ObjectId('67e427e47159c98b4686503d'), ObjectId('67e427e47159c98b4686503e'), ObjectId('67e427e47159c98b4686503f'), ObjectId('67e427e47159c98b46865040'), ObjectId('67e427e47159c98b46865041'), ObjectId('67e427e47159c98b46865042'), ObjectId('67e427e47159c98b46865043'), ObjectId('67e427e47159c98b46865044'), ObjectId('67e427e47159c98b46865045'), ObjectId('67e427e47159c98b46865046'), ObjectId('67e427e47159c98b46865047'), ObjectId('67e427e47159c98b46865048'), ObjectId('67e427e47159c98b46865049'), ObjectId('67e427e47159c98b4686504a'), ObjectId('67e427e47159c98b4686504b'), ObjectId('67e427e47159c98b4686504c'), ObjectId('67e427e47159c98b4686504d'), ObjectId('67e427e47159c98b4686504e'), ObjectId('67e427e47159c98b4686504f'), ObjectId('67e427e47159c98b46865050'), ObjectId('67e427e47159c98b46865051'), ObjectId('67e427e47159c98b46865052'), ObjectId('67e427e47159c98b46865053'), ObjectId('67e427e47159c98b46865054'), ObjectId('67e427e47159c98b46865055'), ObjectId('67e427e47159c98b46865056'), ObjectId('67e427e47159c98b46865057'), ObjectId('67e427e47159c98b46865058'), ObjectId('67e427e47159c98b46865059'), ObjectId('67e427e47159c98b4686505a'), ObjectId('67e427e47159c98b4686505b'), ObjectId('67e427e47159c98b4686505c'), ObjectId('67e427e47159c98b4686505d'), ObjectId('67e427e47159c98b4686505e'), ObjectId('67e427e47159c98b4686505f'), ObjectId('67e427e47159c98b46865060'), ObjectId('67e427e47159c98b46865061'), ObjectId('67e427e47159c98b46865062'), ObjectId('67e427e47159c98b46865063'), ObjectId('67e427e47159c98b46865064'), ObjectId('67e427e47159c98b46865065'), ObjectId('67e427e47159c98b46865066'), ObjectId('67e427e47159c98b46865067'), ObjectId('67e427e47159c98b46865068'), ObjectId('67e427e47159c98b46865069'), ObjectId('67e427e47159c98b4686506a'), ObjectId('67e427e47159c98b4686506b'), ObjectId('67e427e47159c98b4686506c'), ObjectId('67e427e47159c98b4686506d'), ObjectId('67e427e47159c98b4686506e'), ObjectId('67e427e47159c98b4686506f'), ObjectId('67e427e47159c98b46865070'), ObjectId('67e427e47159c98b46865071'), ObjectId('67e427e47159c98b46865072'), ObjectId('67e427e47159c98b46865073'), ObjectId('67e427e47159c98b46865074'), ObjectId('67e427e47159c98b46865075'), ObjectId('67e427e47159c98b46865076'), ObjectId('67e427e47159c98b46865077'), ObjectId('67e427e47159c98b46865078'), ObjectId('67e427e47159c98b46865079'), ObjectId('67e427e47159c98b4686507a'), ObjectId('67e427e47159c98b4686507b'), ObjectId('67e427e47159c98b4686507c'), ObjectId('67e427e47159c98b4686507d'), ObjectId('67e427e47159c98b4686507e'), ObjectId('67e427e47159c98b4686507f'), ObjectId('67e427e47159c98b46865080'), ObjectId('67e427e47159c98b46865081'), ObjectId('67e427e47159c98b46865082'), ObjectId('67e427e47159c98b46865083'), ObjectId('67e427e47159c98b46865084'), ObjectId('67e427e47159c98b46865085'), ObjectId('67e427e47159c98b46865086'), ObjectId('67e427e47159c98b46865087'), ObjectId('67e427e47159c98b46865088'), ObjectId('67e427e47159c98b46865089'), ObjectId('67e427e47159c98b4686508a'), ObjectId('67e427e47159c98b4686508b'), ObjectId('67e427e47159c98b4686508c'), ObjectId('67e427e47159c98b4686508d'), ObjectId('67e427e47159c98b4686508e'), ObjectId('67e427e47159c98b4686508f'), ObjectId('67e427e47159c98b46865090'), ObjectId('67e427e47159c98b46865091'), ObjectId('67e427e47159c98b46865092'), ObjectId('67e427e47159c98b46865093'), ObjectId('67e427e47159c98b46865094'), ObjectId('67e427e47159c98b46865095'), ObjectId('67e427e47159c98b46865096'), ObjectId('67e427e47159c98b46865097'), ObjectId('67e427e47159c98b46865098'), ObjectId('67e427e47159c98b46865099'), ObjectId('67e427e47159c98b4686509a'), ObjectId('67e427e47159c98b4686509b'), ObjectId('67e427e47159c98b4686509c'), ObjectId('67e427e47159c98b4686509d'), ObjectId('67e427e47159c98b4686509e'), ObjectId('67e427e47159c98b4686509f'), ObjectId('67e427e47159c98b468650a0'), ObjectId('67e427e47159c98b468650a1'), ObjectId('67e427e47159c98b468650a2'), ObjectId('67e427e47159c98b468650a3'), ObjectId('67e427e47159c98b468650a4'), ObjectId('67e427e47159c98b468650a5'), ObjectId('67e427e47159c98b468650a6'), ObjectId('67e427e47159c98b468650a7'), ObjectId('67e427e47159c98b468650a8'), ObjectId('67e427e47159c98b468650a9'), ObjectId('67e427e47159c98b468650aa'), ObjectId('67e427e47159c98b468650ab'), ObjectId('67e427e47159c98b468650ac'), ObjectId('67e427e47159c98b468650ad'), ObjectId('67e427e47159c98b468650ae'), ObjectId('67e427e47159c98b468650af'), ObjectId('67e427e47159c98b468650b0'), ObjectId('67e427e47159c98b468650b1'), ObjectId('67e427e47159c98b468650b2'), ObjectId('67e427e47159c98b468650b3'), ObjectId('67e427e47159c98b468650b4'), ObjectId('67e427e47159c98b468650b5'), ObjectId('67e427e47159c98b468650b6'), ObjectId('67e427e47159c98b468650b7'), ObjectId('67e427e47159c98b468650b8'), ObjectId('67e427e47159c98b468650b9'), ObjectId('67e427e47159c98b468650ba'), ObjectId('67e427e47159c98b468650bb'), ObjectId('67e427e47159c98b468650bc'), ObjectId('67e427e47159c98b468650bd'), ObjectId('67e427e47159c98b468650be'), ObjectId('67e427e47159c98b468650bf'), ObjectId('67e427e47159c98b468650c0'), ObjectId('67e427e47159c98b468650c1'), ObjectId('67e427e47159c98b468650c2'), ObjectId('67e427e47159c98b468650c3'), ObjectId('67e427e47159c98b468650c4'), ObjectId('67e427e47159c98b468650c5'), ObjectId('67e427e47159c98b468650c6'), ObjectId('67e427e47159c98b468650c7'), ObjectId('67e427e47159c98b468650c8'), ObjectId('67e427e47159c98b468650c9'), ObjectId('67e427e47159c98b468650ca'), ObjectId('67e427e47159c98b468650cb'), ObjectId('67e427e47159c98b468650cc'), ObjectId('67e427e47159c98b468650cd'), ObjectId('67e427e47159c98b468650ce'), ObjectId('67e427e47159c98b468650cf'), ObjectId('67e427e47159c98b468650d0'), ObjectId('67e427e47159c98b468650d1'), ObjectId('67e427e47159c98b468650d2'), ObjectId('67e427e47159c98b468650d3'), ObjectId('67e427e47159c98b468650d4'), ObjectId('67e427e47159c98b468650d5'), ObjectId('67e427e47159c98b468650d6'), ObjectId('67e427e47159c98b468650d7'), ObjectId('67e427e47159c98b468650d8'), ObjectId('67e427e47159c98b468650d9'), ObjectId('67e427e47159c98b468650da'), ObjectId('67e427e47159c98b468650db'), ObjectId('67e427e47159c98b468650dc'), ObjectId('67e427e47159c98b468650dd'), ObjectId('67e427e47159c98b468650de'), ObjectId('67e427e47159c98b468650df'), ObjectId('67e427e47159c98b468650e0'), ObjectId('67e427e47159c98b468650e1'), ObjectId('67e427e47159c98b468650e2'), ObjectId('67e427e47159c98b468650e3'), ObjectId('67e427e47159c98b468650e4'), ObjectId('67e427e47159c98b468650e5'), ObjectId('67e427e47159c98b468650e6'), ObjectId('67e427e47159c98b468650e7'), ObjectId('67e427e47159c98b468650e8'), ObjectId('67e427e47159c98b468650e9'), ObjectId('67e427e47159c98b468650ea'), ObjectId('67e427e47159c98b468650eb'), ObjectId('67e427e47159c98b468650ec'), ObjectId('67e427e47159c98b468650ed'), ObjectId('67e427e47159c98b468650ee'), ObjectId('67e427e47159c98b468650ef'), ObjectId('67e427e47159c98b468650f0'), ObjectId('67e427e47159c98b468650f1'), ObjectId('67e427e47159c98b468650f2'), ObjectId('67e427e47159c98b468650f3'), ObjectId('67e427e47159c98b468650f4'), ObjectId('67e427e47159c98b468650f5'), ObjectId('67e427e47159c98b468650f6'), ObjectId('67e427e47159c98b468650f7'), ObjectId('67e427e47159c98b468650f8'), ObjectId('67e427e47159c98b468650f9'), ObjectId('67e427e47159c98b468650fa'), ObjectId('67e427e47159c98b468650fb'), ObjectId('67e427e47159c98b468650fc'), ObjectId('67e427e47159c98b468650fd'), ObjectId('67e427e47159c98b468650fe'), ObjectId('67e427e47159c98b468650ff'), ObjectId('67e427e47159c98b46865100'), ObjectId('67e427e47159c98b46865101'), ObjectId('67e427e47159c98b46865102'), ObjectId('67e427e47159c98b46865103'), ObjectId('67e427e47159c98b46865104'), ObjectId('67e427e47159c98b46865105'), ObjectId('67e427e47159c98b46865106'), ObjectId('67e427e47159c98b46865107'), ObjectId('67e427e47159c98b46865108'), ObjectId('67e427e47159c98b46865109'), ObjectId('67e427e47159c98b4686510a'), ObjectId('67e427e47159c98b4686510b'), ObjectId('67e427e47159c98b4686510c'), ObjectId('67e427e47159c98b4686510d'), ObjectId('67e427e47159c98b4686510e'), ObjectId('67e427e47159c98b4686510f'), ObjectId('67e427e47159c98b46865110'), ObjectId('67e427e47159c98b46865111'), ObjectId('67e427e47159c98b46865112'), ObjectId('67e427e47159c98b46865113'), ObjectId('67e427e47159c98b46865114'), ObjectId('67e427e47159c98b46865115'), ObjectId('67e427e47159c98b46865116'), ObjectId('67e427e47159c98b46865117'), ObjectId('67e427e47159c98b46865118'), ObjectId('67e427e47159c98b46865119'), ObjectId('67e427e47159c98b4686511a'), ObjectId('67e427e47159c98b4686511b'), ObjectId('67e427e47159c98b4686511c'), ObjectId('67e427e47159c98b4686511d'), ObjectId('67e427e47159c98b4686511e'), ObjectId('67e427e47159c98b4686511f'), ObjectId('67e427e47159c98b46865120'), ObjectId('67e427e47159c98b46865121'), ObjectId('67e427e47159c98b46865122'), ObjectId('67e427e47159c98b46865123'), ObjectId('67e427e47159c98b46865124'), ObjectId('67e427e47159c98b46865125'), ObjectId('67e427e47159c98b46865126'), ObjectId('67e427e47159c98b46865127'), ObjectId('67e427e47159c98b46865128'), ObjectId('67e427e47159c98b46865129'), ObjectId('67e427e47159c98b4686512a'), ObjectId('67e427e47159c98b4686512b'), ObjectId('67e427e47159c98b4686512c'), ObjectId('67e427e47159c98b4686512d'), ObjectId('67e427e47159c98b4686512e'), ObjectId('67e427e47159c98b4686512f'), ObjectId('67e427e47159c98b46865130'), ObjectId('67e427e47159c98b46865131'), ObjectId('67e427e47159c98b46865132'), ObjectId('67e427e47159c98b46865133'), ObjectId('67e427e47159c98b46865134'), ObjectId('67e427e47159c98b46865135'), ObjectId('67e427e47159c98b46865136'), ObjectId('67e427e47159c98b46865137'), ObjectId('67e427e47159c98b46865138'), ObjectId('67e427e47159c98b46865139'), ObjectId('67e427e47159c98b4686513a'), ObjectId('67e427e47159c98b4686513b'), ObjectId('67e427e47159c98b4686513c'), ObjectId('67e427e47159c98b4686513d'), ObjectId('67e427e47159c98b4686513e'), ObjectId('67e427e47159c98b4686513f'), ObjectId('67e427e47159c98b46865140'), ObjectId('67e427e47159c98b46865141'), ObjectId('67e427e47159c98b46865142'), ObjectId('67e427e47159c98b46865143'), ObjectId('67e427e47159c98b46865144'), ObjectId('67e427e47159c98b46865145'), ObjectId('67e427e47159c98b46865146'), ObjectId('67e427e47159c98b46865147'), ObjectId('67e427e47159c98b46865148'), ObjectId('67e427e47159c98b46865149'), ObjectId('67e427e47159c98b4686514a'), ObjectId('67e427e47159c98b4686514b'), ObjectId('67e427e47159c98b4686514c'), ObjectId('67e427e47159c98b4686514d'), ObjectId('67e427e47159c98b4686514e'), ObjectId('67e427e47159c98b4686514f'), ObjectId('67e427e47159c98b46865150'), ObjectId('67e427e47159c98b46865151'), ObjectId('67e427e47159c98b46865152'), ObjectId('67e427e47159c98b46865153'), ObjectId('67e427e47159c98b46865154'), ObjectId('67e427e47159c98b46865155'), ObjectId('67e427e47159c98b46865156'), ObjectId('67e427e47159c98b46865157'), ObjectId('67e427e47159c98b46865158'), ObjectId('67e427e47159c98b46865159'), ObjectId('67e427e47159c98b4686515a'), ObjectId('67e427e47159c98b4686515b'), ObjectId('67e427e47159c98b4686515c'), ObjectId('67e427e47159c98b4686515d'), ObjectId('67e427e47159c98b4686515e'), ObjectId('67e427e47159c98b4686515f'), ObjectId('67e427e47159c98b46865160'), ObjectId('67e427e47159c98b46865161'), ObjectId('67e427e47159c98b46865162'), ObjectId('67e427e47159c98b46865163'), ObjectId('67e427e47159c98b46865164'), ObjectId('67e427e47159c98b46865165'), ObjectId('67e427e47159c98b46865166'), ObjectId('67e427e47159c98b46865167'), ObjectId('67e427e47159c98b46865168'), ObjectId('67e427e47159c98b46865169'), ObjectId('67e427e47159c98b4686516a'), ObjectId('67e427e47159c98b4686516b'), ObjectId('67e427e47159c98b4686516c'), ObjectId('67e427e47159c98b4686516d'), ObjectId('67e427e47159c98b4686516e'), ObjectId('67e427e47159c98b4686516f'), ObjectId('67e427e47159c98b46865170'), ObjectId('67e427e47159c98b46865171'), ObjectId('67e427e47159c98b46865172'), ObjectId('67e427e47159c98b46865173'), ObjectId('67e427e47159c98b46865174'), ObjectId('67e427e47159c98b46865175'), ObjectId('67e427e47159c98b46865176'), ObjectId('67e427e47159c98b46865177'), ObjectId('67e427e47159c98b46865178'), ObjectId('67e427e47159c98b46865179'), ObjectId('67e427e47159c98b4686517a'), ObjectId('67e427e47159c98b4686517b'), ObjectId('67e427e47159c98b4686517c'), ObjectId('67e427e47159c98b4686517d'), ObjectId('67e427e47159c98b4686517e'), ObjectId('67e427e47159c98b4686517f'), ObjectId('67e427e47159c98b46865180'), ObjectId('67e427e47159c98b46865181'), ObjectId('67e427e47159c98b46865182'), ObjectId('67e427e47159c98b46865183'), ObjectId('67e427e47159c98b46865184'), ObjectId('67e427e47159c98b46865185'), ObjectId('67e427e47159c98b46865186'), ObjectId('67e427e47159c98b46865187'), ObjectId('67e427e47159c98b46865188'), ObjectId('67e427e47159c98b46865189'), ObjectId('67e427e47159c98b4686518a'), ObjectId('67e427e47159c98b4686518b'), ObjectId('67e427e47159c98b4686518c'), ObjectId('67e427e47159c98b4686518d'), ObjectId('67e427e47159c98b4686518e'), ObjectId('67e427e47159c98b4686518f'), ObjectId('67e427e47159c98b46865190'), ObjectId('67e427e47159c98b46865191'), ObjectId('67e427e47159c98b46865192'), ObjectId('67e427e47159c98b46865193'), ObjectId('67e427e47159c98b46865194'), ObjectId('67e427e47159c98b46865195'), ObjectId('67e427e47159c98b46865196'), ObjectId('67e427e47159c98b46865197'), ObjectId('67e427e47159c98b46865198'), ObjectId('67e427e47159c98b46865199'), ObjectId('67e427e47159c98b4686519a'), ObjectId('67e427e47159c98b4686519b'), ObjectId('67e427e47159c98b4686519c'), ObjectId('67e427e47159c98b4686519d'), ObjectId('67e427e47159c98b4686519e'), ObjectId('67e427e47159c98b4686519f'), ObjectId('67e427e47159c98b468651a0'), ObjectId('67e427e47159c98b468651a1'), ObjectId('67e427e47159c98b468651a2'), ObjectId('67e427e47159c98b468651a3'), ObjectId('67e427e47159c98b468651a4'), ObjectId('67e427e47159c98b468651a5'), ObjectId('67e427e47159c98b468651a6'), ObjectId('67e427e47159c98b468651a7'), ObjectId('67e427e47159c98b468651a8'), ObjectId('67e427e47159c98b468651a9'), ObjectId('67e427e47159c98b468651aa'), ObjectId('67e427e47159c98b468651ab'), ObjectId('67e427e47159c98b468651ac'), ObjectId('67e427e47159c98b468651ad'), ObjectId('67e427e47159c98b468651ae'), ObjectId('67e427e47159c98b468651af'), ObjectId('67e427e47159c98b468651b0'), ObjectId('67e427e47159c98b468651b1'), ObjectId('67e427e47159c98b468651b2'), ObjectId('67e427e47159c98b468651b3'), ObjectId('67e427e47159c98b468651b4'), ObjectId('67e427e47159c98b468651b5'), ObjectId('67e427e47159c98b468651b6'), ObjectId('67e427e47159c98b468651b7'), ObjectId('67e427e47159c98b468651b8'), ObjectId('67e427e47159c98b468651b9'), ObjectId('67e427e47159c98b468651ba'), ObjectId('67e427e47159c98b468651bb'), ObjectId('67e427e47159c98b468651bc'), ObjectId('67e427e47159c98b468651bd'), ObjectId('67e427e47159c98b468651be'), ObjectId('67e427e47159c98b468651bf'), ObjectId('67e427e47159c98b468651c0'), ObjectId('67e427e47159c98b468651c1'), ObjectId('67e427e47159c98b468651c2'), ObjectId('67e427e47159c98b468651c3'), ObjectId('67e427e47159c98b468651c4'), ObjectId('67e427e47159c98b468651c5'), ObjectId('67e427e47159c98b468651c6'), ObjectId('67e427e47159c98b468651c7'), ObjectId('67e427e47159c98b468651c8'), ObjectId('67e427e47159c98b468651c9'), ObjectId('67e427e47159c98b468651ca'), ObjectId('67e427e47159c98b468651cb'), ObjectId('67e427e47159c98b468651cc'), ObjectId('67e427e47159c98b468651cd'), ObjectId('67e427e47159c98b468651ce'), ObjectId('67e427e47159c98b468651cf'), ObjectId('67e427e47159c98b468651d0'), ObjectId('67e427e47159c98b468651d1'), ObjectId('67e427e47159c98b468651d2'), ObjectId('67e427e47159c98b468651d3'), ObjectId('67e427e47159c98b468651d4'), ObjectId('67e427e47159c98b468651d5'), ObjectId('67e427e47159c98b468651d6'), ObjectId('67e427e47159c98b468651d7'), ObjectId('67e427e47159c98b468651d8'), ObjectId('67e427e47159c98b468651d9'), ObjectId('67e427e47159c98b468651da'), ObjectId('67e427e47159c98b468651db'), ObjectId('67e427e47159c98b468651dc'), ObjectId('67e427e47159c98b468651dd'), ObjectId('67e427e47159c98b468651de'), ObjectId('67e427e47159c98b468651df'), ObjectId('67e427e47159c98b468651e0'), ObjectId('67e427e47159c98b468651e1'), ObjectId('67e427e47159c98b468651e2'), ObjectId('67e427e47159c98b468651e3'), ObjectId('67e427e47159c98b468651e4'), ObjectId('67e427e47159c98b468651e5'), ObjectId('67e427e47159c98b468651e6'), ObjectId('67e427e47159c98b468651e7'), ObjectId('67e427e47159c98b468651e8'), ObjectId('67e427e47159c98b468651e9'), ObjectId('67e427e47159c98b468651ea'), ObjectId('67e427e47159c98b468651eb'), ObjectId('67e427e47159c98b468651ec'), ObjectId('67e427e47159c98b468651ed'), ObjectId('67e427e47159c98b468651ee'), ObjectId('67e427e47159c98b468651ef'), ObjectId('67e427e47159c98b468651f0'), ObjectId('67e427e47159c98b468651f1'), ObjectId('67e427e47159c98b468651f2'), ObjectId('67e427e47159c98b468651f3'), ObjectId('67e427e47159c98b468651f4'), ObjectId('67e427e47159c98b468651f5'), ObjectId('67e427e47159c98b468651f6'), ObjectId('67e427e47159c98b468651f7'), ObjectId('67e427e47159c98b468651f8'), ObjectId('67e427e47159c98b468651f9'), ObjectId('67e427e47159c98b468651fa'), ObjectId('67e427e47159c98b468651fb'), ObjectId('67e427e47159c98b468651fc'), ObjectId('67e427e47159c98b468651fd'), ObjectId('67e427e47159c98b468651fe'), ObjectId('67e427e47159c98b468651ff'), ObjectId('67e427e47159c98b46865200'), ObjectId('67e427e47159c98b46865201'), ObjectId('67e427e47159c98b46865202'), ObjectId('67e427e47159c98b46865203'), ObjectId('67e427e47159c98b46865204'), ObjectId('67e427e47159c98b46865205'), ObjectId('67e427e47159c98b46865206'), ObjectId('67e427e47159c98b46865207'), ObjectId('67e427e47159c98b46865208'), ObjectId('67e427e47159c98b46865209'), ObjectId('67e427e47159c98b4686520a'), ObjectId('67e427e47159c98b4686520b'), ObjectId('67e427e47159c98b4686520c'), ObjectId('67e427e47159c98b4686520d'), ObjectId('67e427e47159c98b4686520e'), ObjectId('67e427e47159c98b4686520f'), ObjectId('67e427e47159c98b46865210'), ObjectId('67e427e47159c98b46865211'), ObjectId('67e427e47159c98b46865212'), ObjectId('67e427e47159c98b46865213'), ObjectId('67e427e47159c98b46865214'), ObjectId('67e427e47159c98b46865215'), ObjectId('67e427e47159c98b46865216'), ObjectId('67e427e47159c98b46865217'), ObjectId('67e427e47159c98b46865218'), ObjectId('67e427e47159c98b46865219'), ObjectId('67e427e47159c98b4686521a'), ObjectId('67e427e47159c98b4686521b'), ObjectId('67e427e47159c98b4686521c'), ObjectId('67e427e47159c98b4686521d'), ObjectId('67e427e47159c98b4686521e'), ObjectId('67e427e47159c98b4686521f'), ObjectId('67e427e47159c98b46865220'), ObjectId('67e427e47159c98b46865221'), ObjectId('67e427e47159c98b46865222'), ObjectId('67e427e47159c98b46865223'), ObjectId('67e427e47159c98b46865224'), ObjectId('67e427e47159c98b46865225'), ObjectId('67e427e47159c98b46865226'), ObjectId('67e427e47159c98b46865227'), ObjectId('67e427e47159c98b46865228'), ObjectId('67e427e47159c98b46865229'), ObjectId('67e427e47159c98b4686522a'), ObjectId('67e427e47159c98b4686522b'), ObjectId('67e427e47159c98b4686522c'), ObjectId('67e427e47159c98b4686522d'), ObjectId('67e427e47159c98b4686522e'), ObjectId('67e427e47159c98b4686522f'), ObjectId('67e427e47159c98b46865230'), ObjectId('67e427e47159c98b46865231'), ObjectId('67e427e47159c98b46865232'), ObjectId('67e427e47159c98b46865233'), ObjectId('67e427e47159c98b46865234'), ObjectId('67e427e47159c98b46865235'), ObjectId('67e427e47159c98b46865236'), ObjectId('67e427e47159c98b46865237'), ObjectId('67e427e47159c98b46865238'), ObjectId('67e427e47159c98b46865239'), ObjectId('67e427e47159c98b4686523a'), ObjectId('67e427e47159c98b4686523b'), ObjectId('67e427e47159c98b4686523c'), ObjectId('67e427e47159c98b4686523d'), ObjectId('67e427e47159c98b4686523e'), ObjectId('67e427e47159c98b4686523f'), ObjectId('67e427e47159c98b46865240'), ObjectId('67e427e47159c98b46865241'), ObjectId('67e427e47159c98b46865242'), ObjectId('67e427e47159c98b46865243'), ObjectId('67e427e47159c98b46865244'), ObjectId('67e427e47159c98b46865245'), ObjectId('67e427e47159c98b46865246'), ObjectId('67e427e47159c98b46865247'), ObjectId('67e427e47159c98b46865248'), ObjectId('67e427e47159c98b46865249'), ObjectId('67e427e47159c98b4686524a'), ObjectId('67e427e47159c98b4686524b'), ObjectId('67e427e47159c98b4686524c'), ObjectId('67e427e47159c98b4686524d'), ObjectId('67e427e47159c98b4686524e'), ObjectId('67e427e47159c98b4686524f'), ObjectId('67e427e47159c98b46865250'), ObjectId('67e427e47159c98b46865251'), ObjectId('67e427e47159c98b46865252'), ObjectId('67e427e47159c98b46865253'), ObjectId('67e427e47159c98b46865254'), ObjectId('67e427e47159c98b46865255'), ObjectId('67e427e47159c98b46865256'), ObjectId('67e427e47159c98b46865257'), ObjectId('67e427e47159c98b46865258'), ObjectId('67e427e47159c98b46865259'), ObjectId('67e427e47159c98b4686525a'), ObjectId('67e427e47159c98b4686525b'), ObjectId('67e427e47159c98b4686525c'), ObjectId('67e427e47159c98b4686525d'), ObjectId('67e427e47159c98b4686525e'), ObjectId('67e427e47159c98b4686525f'), ObjectId('67e427e47159c98b46865260'), ObjectId('67e427e47159c98b46865261'), ObjectId('67e427e47159c98b46865262'), ObjectId('67e427e47159c98b46865263'), ObjectId('67e427e47159c98b46865264'), ObjectId('67e427e47159c98b46865265'), ObjectId('67e427e47159c98b46865266'), ObjectId('67e427e47159c98b46865267'), ObjectId('67e427e47159c98b46865268'), ObjectId('67e427e47159c98b46865269'), ObjectId('67e427e47159c98b4686526a'), ObjectId('67e427e47159c98b4686526b'), ObjectId('67e427e47159c98b4686526c'), ObjectId('67e427e47159c98b4686526d'), ObjectId('67e427e47159c98b4686526e'), ObjectId('67e427e47159c98b4686526f'), ObjectId('67e427e47159c98b46865270'), ObjectId('67e427e47159c98b46865271'), ObjectId('67e427e47159c98b46865272'), ObjectId('67e427e47159c98b46865273'), ObjectId('67e427e47159c98b46865274'), ObjectId('67e427e47159c98b46865275'), ObjectId('67e427e47159c98b46865276'), ObjectId('67e427e47159c98b46865277'), ObjectId('67e427e47159c98b46865278'), ObjectId('67e427e47159c98b46865279'), ObjectId('67e427e47159c98b4686527a'), ObjectId('67e427e47159c98b4686527b'), ObjectId('67e427e47159c98b4686527c'), ObjectId('67e427e47159c98b4686527d'), ObjectId('67e427e47159c98b4686527e'), ObjectId('67e427e47159c98b4686527f'), ObjectId('67e427e47159c98b46865280'), ObjectId('67e427e47159c98b46865281'), ObjectId('67e427e47159c98b46865282'), ObjectId('67e427e47159c98b46865283'), ObjectId('67e427e47159c98b46865284'), ObjectId('67e427e47159c98b46865285'), ObjectId('67e427e47159c98b46865286'), ObjectId('67e427e47159c98b46865287'), ObjectId('67e427e47159c98b46865288'), ObjectId('67e427e47159c98b46865289'), ObjectId('67e427e47159c98b4686528a'), ObjectId('67e427e47159c98b4686528b'), ObjectId('67e427e47159c98b4686528c'), ObjectId('67e427e47159c98b4686528d'), ObjectId('67e427e47159c98b4686528e'), ObjectId('67e427e47159c98b4686528f'), ObjectId('67e427e47159c98b46865290'), ObjectId('67e427e47159c98b46865291'), ObjectId('67e427e47159c98b46865292'), ObjectId('67e427e47159c98b46865293'), ObjectId('67e427e47159c98b46865294'), ObjectId('67e427e47159c98b46865295'), ObjectId('67e427e47159c98b46865296'), ObjectId('67e427e47159c98b46865297'), ObjectId('67e427e47159c98b46865298'), ObjectId('67e427e47159c98b46865299'), ObjectId('67e427e47159c98b4686529a'), ObjectId('67e427e47159c98b4686529b'), ObjectId('67e427e47159c98b4686529c'), ObjectId('67e427e47159c98b4686529d'), ObjectId('67e427e47159c98b4686529e'), ObjectId('67e427e47159c98b4686529f'), ObjectId('67e427e47159c98b468652a0'), ObjectId('67e427e47159c98b468652a1'), ObjectId('67e427e47159c98b468652a2'), ObjectId('67e427e47159c98b468652a3'), ObjectId('67e427e47159c98b468652a4'), ObjectId('67e427e47159c98b468652a5'), ObjectId('67e427e47159c98b468652a6'), ObjectId('67e427e47159c98b468652a7'), ObjectId('67e427e47159c98b468652a8'), ObjectId('67e427e47159c98b468652a9'), ObjectId('67e427e47159c98b468652aa'), ObjectId('67e427e47159c98b468652ab'), ObjectId('67e427e47159c98b468652ac'), ObjectId('67e427e47159c98b468652ad'), ObjectId('67e427e47159c98b468652ae'), ObjectId('67e427e47159c98b468652af'), ObjectId('67e427e47159c98b468652b0'), ObjectId('67e427e47159c98b468652b1'), ObjectId('67e427e47159c98b468652b2'), ObjectId('67e427e47159c98b468652b3'), ObjectId('67e427e47159c98b468652b4'), ObjectId('67e427e47159c98b468652b5'), ObjectId('67e427e47159c98b468652b6'), ObjectId('67e427e47159c98b468652b7'), ObjectId('67e427e47159c98b468652b8'), ObjectId('67e427e47159c98b468652b9'), ObjectId('67e427e47159c98b468652ba'), ObjectId('67e427e47159c98b468652bb'), ObjectId('67e427e47159c98b468652bc'), ObjectId('67e427e47159c98b468652bd'), ObjectId('67e427e47159c98b468652be'), ObjectId('67e427e47159c98b468652bf'), ObjectId('67e427e47159c98b468652c0'), ObjectId('67e427e47159c98b468652c1'), ObjectId('67e427e47159c98b468652c2'), ObjectId('67e427e47159c98b468652c3'), ObjectId('67e427e47159c98b468652c4'), ObjectId('67e427e47159c98b468652c5'), ObjectId('67e427e47159c98b468652c6'), ObjectId('67e427e47159c98b468652c7'), ObjectId('67e427e47159c98b468652c8'), ObjectId('67e427e47159c98b468652c9'), ObjectId('67e427e47159c98b468652ca'), ObjectId('67e427e47159c98b468652cb'), ObjectId('67e427e47159c98b468652cc'), ObjectId('67e427e47159c98b468652cd'), ObjectId('67e427e47159c98b468652ce'), ObjectId('67e427e47159c98b468652cf'), ObjectId('67e427e47159c98b468652d0'), ObjectId('67e427e47159c98b468652d1'), ObjectId('67e427e47159c98b468652d2'), ObjectId('67e427e47159c98b468652d3'), ObjectId('67e427e47159c98b468652d4'), ObjectId('67e427e47159c98b468652d5'), ObjectId('67e427e47159c98b468652d6'), ObjectId('67e427e47159c98b468652d7'), ObjectId('67e427e47159c98b468652d8'), ObjectId('67e427e47159c98b468652d9'), ObjectId('67e427e47159c98b468652da'), ObjectId('67e427e47159c98b468652db'), ObjectId('67e427e47159c98b468652dc'), ObjectId('67e427e47159c98b468652dd'), ObjectId('67e427e47159c98b468652de'), ObjectId('67e427e47159c98b468652df'), ObjectId('67e427e47159c98b468652e0'), ObjectId('67e427e47159c98b468652e1'), ObjectId('67e427e47159c98b468652e2'), ObjectId('67e427e47159c98b468652e3'), ObjectId('67e427e47159c98b468652e4'), ObjectId('67e427e47159c98b468652e5'), ObjectId('67e427e47159c98b468652e6'), ObjectId('67e427e47159c98b468652e7'), ObjectId('67e427e47159c98b468652e8'), ObjectId('67e427e47159c98b468652e9'), ObjectId('67e427e47159c98b468652ea'), ObjectId('67e427e47159c98b468652eb'), ObjectId('67e427e47159c98b468652ec'), ObjectId('67e427e47159c98b468652ed'), ObjectId('67e427e47159c98b468652ee'), ObjectId('67e427e47159c98b468652ef'), ObjectId('67e427e47159c98b468652f0'), ObjectId('67e427e47159c98b468652f1'), ObjectId('67e427e47159c98b468652f2'), ObjectId('67e427e47159c98b468652f3'), ObjectId('67e427e47159c98b468652f4'), ObjectId('67e427e47159c98b468652f5'), ObjectId('67e427e47159c98b468652f6'), ObjectId('67e427e47159c98b468652f7'), ObjectId('67e427e47159c98b468652f8'), ObjectId('67e427e47159c98b468652f9'), ObjectId('67e427e47159c98b468652fa'), ObjectId('67e427e47159c98b468652fb'), ObjectId('67e427e47159c98b468652fc'), ObjectId('67e427e47159c98b468652fd'), ObjectId('67e427e47159c98b468652fe'), ObjectId('67e427e47159c98b468652ff'), ObjectId('67e427e47159c98b46865300'), ObjectId('67e427e47159c98b46865301'), ObjectId('67e427e47159c98b46865302'), ObjectId('67e427e47159c98b46865303'), ObjectId('67e427e47159c98b46865304'), ObjectId('67e427e47159c98b46865305'), ObjectId('67e427e47159c98b46865306'), ObjectId('67e427e47159c98b46865307'), ObjectId('67e427e47159c98b46865308'), ObjectId('67e427e47159c98b46865309'), ObjectId('67e427e47159c98b4686530a'), ObjectId('67e427e47159c98b4686530b'), ObjectId('67e427e47159c98b4686530c'), ObjectId('67e427e47159c98b4686530d'), ObjectId('67e427e47159c98b4686530e'), ObjectId('67e427e47159c98b4686530f'), ObjectId('67e427e47159c98b46865310'), ObjectId('67e427e47159c98b46865311'), ObjectId('67e427e47159c98b46865312'), ObjectId('67e427e47159c98b46865313'), ObjectId('67e427e47159c98b46865314'), ObjectId('67e427e47159c98b46865315'), ObjectId('67e427e47159c98b46865316'), ObjectId('67e427e47159c98b46865317'), ObjectId('67e427e47159c98b46865318'), ObjectId('67e427e47159c98b46865319'), ObjectId('67e427e47159c98b4686531a'), ObjectId('67e427e47159c98b4686531b'), ObjectId('67e427e47159c98b4686531c'), ObjectId('67e427e47159c98b4686531d'), ObjectId('67e427e47159c98b4686531e'), ObjectId('67e427e47159c98b4686531f'), ObjectId('67e427e47159c98b46865320'), ObjectId('67e427e47159c98b46865321'), ObjectId('67e427e47159c98b46865322'), ObjectId('67e427e47159c98b46865323'), ObjectId('67e427e47159c98b46865324'), ObjectId('67e427e47159c98b46865325'), ObjectId('67e427e47159c98b46865326'), ObjectId('67e427e47159c98b46865327'), ObjectId('67e427e47159c98b46865328'), ObjectId('67e427e47159c98b46865329'), ObjectId('67e427e47159c98b4686532a'), ObjectId('67e427e47159c98b4686532b'), ObjectId('67e427e47159c98b4686532c'), ObjectId('67e427e47159c98b4686532d'), ObjectId('67e427e47159c98b4686532e'), ObjectId('67e427e47159c98b4686532f'), ObjectId('67e427e47159c98b46865330'), ObjectId('67e427e47159c98b46865331'), ObjectId('67e427e47159c98b46865332'), ObjectId('67e427e47159c98b46865333'), ObjectId('67e427e47159c98b46865334'), ObjectId('67e427e47159c98b46865335'), ObjectId('67e427e47159c98b46865336'), ObjectId('67e427e47159c98b46865337'), ObjectId('67e427e47159c98b46865338'), ObjectId('67e427e47159c98b46865339'), ObjectId('67e427e47159c98b4686533a'), ObjectId('67e427e47159c98b4686533b'), ObjectId('67e427e47159c98b4686533c'), ObjectId('67e427e47159c98b4686533d'), ObjectId('67e427e47159c98b4686533e'), ObjectId('67e427e47159c98b4686533f'), ObjectId('67e427e47159c98b46865340'), ObjectId('67e427e47159c98b46865341'), ObjectId('67e427e47159c98b46865342'), ObjectId('67e427e47159c98b46865343'), ObjectId('67e427e47159c98b46865344'), ObjectId('67e427e47159c98b46865345'), ObjectId('67e427e47159c98b46865346'), ObjectId('67e427e47159c98b46865347'), ObjectId('67e427e47159c98b46865348'), ObjectId('67e427e47159c98b46865349'), ObjectId('67e427e47159c98b4686534a'), ObjectId('67e427e47159c98b4686534b'), ObjectId('67e427e47159c98b4686534c'), ObjectId('67e427e47159c98b4686534d'), ObjectId('67e427e47159c98b4686534e'), ObjectId('67e427e47159c98b4686534f'), ObjectId('67e427e47159c98b46865350'), ObjectId('67e427e47159c98b46865351'), ObjectId('67e427e47159c98b46865352'), ObjectId('67e427e47159c98b46865353'), ObjectId('67e427e47159c98b46865354'), ObjectId('67e427e47159c98b46865355'), ObjectId('67e427e47159c98b46865356'), ObjectId('67e427e47159c98b46865357'), ObjectId('67e427e47159c98b46865358'), ObjectId('67e427e47159c98b46865359'), ObjectId('67e427e47159c98b4686535a'), ObjectId('67e427e47159c98b4686535b'), ObjectId('67e427e47159c98b4686535c'), ObjectId('67e427e47159c98b4686535d'), ObjectId('67e427e47159c98b4686535e'), ObjectId('67e427e47159c98b4686535f'), ObjectId('67e427e47159c98b46865360'), ObjectId('67e427e47159c98b46865361'), ObjectId('67e427e47159c98b46865362'), ObjectId('67e427e47159c98b46865363'), ObjectId('67e427e47159c98b46865364'), ObjectId('67e427e47159c98b46865365'), ObjectId('67e427e47159c98b46865366'), ObjectId('67e427e47159c98b46865367'), ObjectId('67e427e47159c98b46865368'), ObjectId('67e427e47159c98b46865369'), ObjectId('67e427e47159c98b4686536a'), ObjectId('67e427e47159c98b4686536b'), ObjectId('67e427e47159c98b4686536c'), ObjectId('67e427e47159c98b4686536d'), ObjectId('67e427e47159c98b4686536e'), ObjectId('67e427e47159c98b4686536f'), ObjectId('67e427e47159c98b46865370'), ObjectId('67e427e47159c98b46865371'), ObjectId('67e427e47159c98b46865372'), ObjectId('67e427e47159c98b46865373'), ObjectId('67e427e47159c98b46865374'), ObjectId('67e427e47159c98b46865375'), ObjectId('67e427e47159c98b46865376'), ObjectId('67e427e47159c98b46865377'), ObjectId('67e427e47159c98b46865378'), ObjectId('67e427e47159c98b46865379'), ObjectId('67e427e47159c98b4686537a'), ObjectId('67e427e47159c98b4686537b'), ObjectId('67e427e47159c98b4686537c'), ObjectId('67e427e47159c98b4686537d'), ObjectId('67e427e47159c98b4686537e'), ObjectId('67e427e47159c98b4686537f'), ObjectId('67e427e47159c98b46865380'), ObjectId('67e427e47159c98b46865381'), ObjectId('67e427e47159c98b46865382'), ObjectId('67e427e47159c98b46865383'), ObjectId('67e427e47159c98b46865384'), ObjectId('67e427e47159c98b46865385'), ObjectId('67e427e47159c98b46865386'), ObjectId('67e427e47159c98b46865387'), ObjectId('67e427e47159c98b46865388'), ObjectId('67e427e47159c98b46865389'), ObjectId('67e427e47159c98b4686538a'), ObjectId('67e427e47159c98b4686538b'), ObjectId('67e427e47159c98b4686538c'), ObjectId('67e427e47159c98b4686538d'), ObjectId('67e427e47159c98b4686538e'), ObjectId('67e427e47159c98b4686538f'), ObjectId('67e427e47159c98b46865390'), ObjectId('67e427e47159c98b46865391'), ObjectId('67e427e47159c98b46865392'), ObjectId('67e427e47159c98b46865393'), ObjectId('67e427e47159c98b46865394'), ObjectId('67e427e47159c98b46865395'), ObjectId('67e427e47159c98b46865396'), ObjectId('67e427e47159c98b46865397'), ObjectId('67e427e47159c98b46865398'), ObjectId('67e427e47159c98b46865399'), ObjectId('67e427e47159c98b4686539a'), ObjectId('67e427e47159c98b4686539b'), ObjectId('67e427e47159c98b4686539c'), ObjectId('67e427e47159c98b4686539d'), ObjectId('67e427e47159c98b4686539e'), ObjectId('67e427e47159c98b4686539f'), ObjectId('67e427e47159c98b468653a0'), ObjectId('67e427e47159c98b468653a1'), ObjectId('67e427e47159c98b468653a2'), ObjectId('67e427e47159c98b468653a3'), ObjectId('67e427e47159c98b468653a4'), ObjectId('67e427e47159c98b468653a5'), ObjectId('67e427e47159c98b468653a6'), ObjectId('67e427e47159c98b468653a7'), ObjectId('67e427e47159c98b468653a8'), ObjectId('67e427e47159c98b468653a9')], acknowledged=True)"
      ]
     },
     "execution_count": 4,
     "metadata": {},
     "output_type": "execute_result"
    }
   ],
   "source": [
    "subir_dados_mongodb(\"id_clientes\",clientes_omie)"
   ]
  },
  {
   "cell_type": "code",
   "execution_count": 2,
   "metadata": {},
   "outputs": [
    {
     "name": "stderr",
     "output_type": "stream",
     "text": [
      "2025-03-26 13:14:09.714 WARNING streamlit.runtime.scriptrunner_utils.script_run_context: Thread 'MainThread': missing ScriptRunContext! This warning can be ignored when running in bare mode.\n",
      "2025-03-26 13:14:10.987 \"runner.magic_enabled\" is not a valid config option. If you previously had this config option set, it may have been removed.\n",
      "2025-03-26 13:14:10.992 \n",
      "  \u001b[33m\u001b[1mWarning:\u001b[0m to view this Streamlit app on a browser, run it with the following\n",
      "  command:\n",
      "\n",
      "    streamlit run /home/ciroshia/Downloads/github/gerador_de_notas_procorpo/.venv/lib/python3.12/site-packages/ipykernel_launcher.py [ARGUMENTS]\n",
      "2025-03-26 13:14:10.994 Thread 'MainThread': missing ScriptRunContext! This warning can be ignored when running in bare mode.\n",
      "2025-03-26 13:14:10.995 Thread 'MainThread': missing ScriptRunContext! This warning can be ignored when running in bare mode.\n",
      "2025-03-26 13:14:10.996 Thread 'MainThread': missing ScriptRunContext! This warning can be ignored when running in bare mode.\n",
      "2025-03-26 13:14:11.460 Thread 'MainThread': missing ScriptRunContext! This warning can be ignored when running in bare mode.\n",
      "2025-03-26 13:14:11.462 Thread 'MainThread': missing ScriptRunContext! This warning can be ignored when running in bare mode.\n",
      "2025-03-26 13:14:11.464 Thread 'MainThread': missing ScriptRunContext! This warning can be ignored when running in bare mode.\n",
      "2025-03-26 13:14:11.466 Thread 'MainThread': missing ScriptRunContext! This warning can be ignored when running in bare mode.\n"
     ]
    }
   ],
   "source": [
    "deletar_todos_documentos(\"id_clientes\")"
   ]
  }
 ],
 "metadata": {
  "kernelspec": {
   "display_name": ".venv",
   "language": "python",
   "name": "python3"
  },
  "language_info": {
   "codemirror_mode": {
    "name": "ipython",
    "version": 3
   },
   "file_extension": ".py",
   "mimetype": "text/x-python",
   "name": "python",
   "nbconvert_exporter": "python",
   "pygments_lexer": "ipython3",
   "version": "3.12.3"
  }
 },
 "nbformat": 4,
 "nbformat_minor": 2
}
