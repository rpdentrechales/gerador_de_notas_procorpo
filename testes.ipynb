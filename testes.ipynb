{
 "cells": [
  {
   "cell_type": "code",
   "execution_count": 1,
   "metadata": {},
   "outputs": [],
   "source": [
    "import streamlit as st\n",
    "import pandas as pd\n",
    "from datetime import datetime, timedelta,time\n",
    "from streamlit_gsheets import GSheetsConnection\n",
    "from auxiliar.auxiliar import *\n",
    "from auxiliar.omie_aux import *"
   ]
  },
  {
   "cell_type": "code",
   "execution_count": 2,
   "metadata": {},
   "outputs": [
    {
     "name": "stderr",
     "output_type": "stream",
     "text": [
      "2025-03-12 13:59:42.313 WARNING streamlit.runtime.scriptrunner_utils.script_run_context: Thread 'MainThread': missing ScriptRunContext! This warning can be ignored when running in bare mode.\n",
      "2025-03-12 13:59:42.741 \"runner.magic_enabled\" is not a valid config option. If you previously had this config option set, it may have been removed.\n",
      "2025-03-12 13:59:42.744 \n",
      "  \u001b[33m\u001b[1mWarning:\u001b[0m to view this Streamlit app on a browser, run it with the following\n",
      "  command:\n",
      "\n",
      "    streamlit run /home/ciroshia/Downloads/github/gerador_de_notas_procorpo/.venv/lib/python3.12/site-packages/ipykernel_launcher.py [ARGUMENTS]\n",
      "2025-03-12 13:59:42.746 Thread 'MainThread': missing ScriptRunContext! This warning can be ignored when running in bare mode.\n",
      "2025-03-12 13:59:42.748 Thread 'MainThread': missing ScriptRunContext! This warning can be ignored when running in bare mode.\n",
      "2025-03-12 13:59:43.158 Thread 'MainThread': missing ScriptRunContext! This warning can be ignored when running in bare mode.\n",
      "2025-03-12 13:59:43.161 Thread 'MainThread': missing ScriptRunContext! This warning can be ignored when running in bare mode.\n",
      "2025-03-12 13:59:43.162 No runtime found, using MemoryCacheStorageManager\n",
      "2025-03-12 13:59:43.167 No runtime found, using MemoryCacheStorageManager\n",
      "2025-03-12 13:59:43.170 Thread 'MainThread': missing ScriptRunContext! This warning can be ignored when running in bare mode.\n",
      "2025-03-12 13:59:43.172 Thread 'MainThread': missing ScriptRunContext! This warning can be ignored when running in bare mode.\n",
      "2025-03-12 13:59:43.174 Thread 'MainThread': missing ScriptRunContext! This warning can be ignored when running in bare mode.\n",
      "2025-03-12 13:59:43.678 Thread 'Thread-5': missing ScriptRunContext! This warning can be ignored when running in bare mode.\n",
      "2025-03-12 13:59:43.683 Thread 'Thread-5': missing ScriptRunContext! This warning can be ignored when running in bare mode.\n",
      "2025-03-12 13:59:44.161 Thread 'MainThread': missing ScriptRunContext! This warning can be ignored when running in bare mode.\n",
      "2025-03-12 13:59:44.168 Thread 'MainThread': missing ScriptRunContext! This warning can be ignored when running in bare mode.\n"
     ]
    },
    {
     "data": {
      "text/html": [
       "<div>\n",
       "<style scoped>\n",
       "    .dataframe tbody tr th:only-of-type {\n",
       "        vertical-align: middle;\n",
       "    }\n",
       "\n",
       "    .dataframe tbody tr th {\n",
       "        vertical-align: top;\n",
       "    }\n",
       "\n",
       "    .dataframe thead th {\n",
       "        text-align: right;\n",
       "    }\n",
       "</style>\n",
       "<table border=\"1\" class=\"dataframe\">\n",
       "  <thead>\n",
       "    <tr style=\"text-align: right;\">\n",
       "      <th></th>\n",
       "      <th>nCodCC</th>\n",
       "      <th>descricao</th>\n",
       "      <th>Unidade</th>\n",
       "      <th>cCodCCInt</th>\n",
       "      <th>TIPO</th>\n",
       "    </tr>\n",
       "  </thead>\n",
       "  <tbody>\n",
       "    <tr>\n",
       "      <th>0</th>\n",
       "      <td>2969493259</td>\n",
       "      <td>Cielo - Teste</td>\n",
       "      <td>BackOffice</td>\n",
       "      <td>tst-01</td>\n",
       "      <td>Cielo</td>\n",
       "    </tr>\n",
       "    <tr>\n",
       "      <th>1</th>\n",
       "      <td>2969493273</td>\n",
       "      <td>PIX/Transferência - Teste</td>\n",
       "      <td>BackOffice</td>\n",
       "      <td>tst-02</td>\n",
       "      <td>PIX/Transferência</td>\n",
       "    </tr>\n",
       "    <tr>\n",
       "      <th>2</th>\n",
       "      <td>2969493277</td>\n",
       "      <td>INKLO - Teste</td>\n",
       "      <td>BackOffice</td>\n",
       "      <td>tst-03</td>\n",
       "      <td>INKLO</td>\n",
       "    </tr>\n",
       "    <tr>\n",
       "      <th>3</th>\n",
       "      <td>2969493279</td>\n",
       "      <td>Yapay boletos - Teste</td>\n",
       "      <td>BackOffice</td>\n",
       "      <td>tst-04</td>\n",
       "      <td>PIX/Transferência</td>\n",
       "    </tr>\n",
       "    <tr>\n",
       "      <th>4</th>\n",
       "      <td>2969493285</td>\n",
       "      <td>Caixinha - Teste</td>\n",
       "      <td>BackOffice</td>\n",
       "      <td>tst-05</td>\n",
       "      <td>Caixinha</td>\n",
       "    </tr>\n",
       "  </tbody>\n",
       "</table>\n",
       "</div>"
      ],
      "text/plain": [
       "       nCodCC                  descricao     Unidade cCodCCInt  \\\n",
       "0  2969493259              Cielo - Teste  BackOffice    tst-01   \n",
       "1  2969493273  PIX/Transferência - Teste  BackOffice    tst-02   \n",
       "2  2969493277              INKLO - Teste  BackOffice    tst-03   \n",
       "3  2969493279      Yapay boletos - Teste  BackOffice    tst-04   \n",
       "4  2969493285           Caixinha - Teste  BackOffice    tst-05   \n",
       "\n",
       "                TIPO  \n",
       "0              Cielo  \n",
       "1  PIX/Transferência  \n",
       "2              INKLO  \n",
       "3  PIX/Transferência  \n",
       "4           Caixinha  "
      ]
     },
     "execution_count": 2,
     "metadata": {},
     "output_type": "execute_result"
    }
   ],
   "source": [
    "pegar_contas_teste()"
   ]
  }
 ],
 "metadata": {
  "kernelspec": {
   "display_name": ".venv",
   "language": "python",
   "name": "python3"
  },
  "language_info": {
   "codemirror_mode": {
    "name": "ipython",
    "version": 3
   },
   "file_extension": ".py",
   "mimetype": "text/x-python",
   "name": "python",
   "nbconvert_exporter": "python",
   "pygments_lexer": "ipython3",
   "version": "3.12.3"
  }
 },
 "nbformat": 4,
 "nbformat_minor": 2
}
