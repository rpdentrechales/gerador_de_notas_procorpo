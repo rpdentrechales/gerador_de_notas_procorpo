{
 "cells": [
  {
   "cell_type": "code",
   "execution_count": 1,
   "metadata": {},
   "outputs": [],
   "source": [
    "import streamlit as st\n",
    "import pandas as pd\n",
    "from datetime import datetime, timedelta\n",
    "from streamlit_gsheets import GSheetsConnection\n",
    "from auxiliar.auxiliar import *"
   ]
  },
  {
   "cell_type": "code",
   "execution_count": 25,
   "metadata": {},
   "outputs": [
    {
     "data": {
      "text/plain": [
       "0     {'faultstring': 'ERROR: Código de integração d...\n",
       "1     {'faultstring': 'ERROR: Cliente não cadastrado...\n",
       "2     {'faultstring': 'ERROR: Cliente não cadastrado...\n",
       "3     {'faultstring': 'ERROR: Cliente não cadastrado...\n",
       "4     {'cCodIntOS': '427823-01', 'nCodOS': 295917355...\n",
       "5     {'cCodIntOS': '431702-01', 'nCodOS': 296087782...\n",
       "6     {'cCodIntOS': '431683-01', 'nCodOS': 296087783...\n",
       "7     {'cCodIntOS': '431670-01', 'nCodOS': 296087784...\n",
       "8     {'faultstring': 'ERROR: Cliente não cadastrado...\n",
       "9     {'cCodIntOS': '430226-01', 'nCodOS': 296089674...\n",
       "10    {'faultstring': 'ERROR: Cliente não cadastrado...\n",
       "11    {'cCodIntOS': '430323-01', 'nCodOS': 296091385...\n",
       "Name: resposta, dtype: object"
      ]
     },
     "execution_count": 25,
     "metadata": {},
     "output_type": "execute_result"
    }
   ],
   "source": [
    "ids_os_subidos[\"resposta\"]"
   ]
  },
  {
   "cell_type": "code",
   "execution_count": null,
   "metadata": {},
   "outputs": [
    {
     "data": {
      "text/plain": [
       "0      True\n",
       "1      True\n",
       "2      True\n",
       "3      True\n",
       "4     False\n",
       "5     False\n",
       "6     False\n",
       "7     False\n",
       "8      True\n",
       "9     False\n",
       "10     True\n",
       "11    False\n",
       "Name: resposta, dtype: bool"
      ]
     },
     "execution_count": 29,
     "metadata": {},
     "output_type": "execute_result"
    }
   ],
   "source": [
    "id_mask = ids_os_subidos[\"resposta\"].astype(str).str.contains(\"ERROR\", case=False, na=False)\n"
   ]
  },
  {
   "cell_type": "code",
   "execution_count": 34,
   "metadata": {},
   "outputs": [],
   "source": [
    "ids_os_subidos = pegar_dados_mongodb(\"log_os\")"
   ]
  },
  {
   "cell_type": "code",
   "execution_count": 35,
   "metadata": {},
   "outputs": [
    {
     "data": {
      "text/html": [
       "<div>\n",
       "<style scoped>\n",
       "    .dataframe tbody tr th:only-of-type {\n",
       "        vertical-align: middle;\n",
       "    }\n",
       "\n",
       "    .dataframe tbody tr th {\n",
       "        vertical-align: top;\n",
       "    }\n",
       "\n",
       "    .dataframe thead th {\n",
       "        text-align: right;\n",
       "    }\n",
       "</style>\n",
       "<table border=\"1\" class=\"dataframe\">\n",
       "  <thead>\n",
       "    <tr style=\"text-align: right;\">\n",
       "      <th></th>\n",
       "      <th>os_id</th>\n",
       "      <th>quote_id</th>\n",
       "      <th>store_name</th>\n",
       "      <th>resposta</th>\n",
       "      <th>timestamp</th>\n",
       "    </tr>\n",
       "  </thead>\n",
       "  <tbody>\n",
       "    <tr>\n",
       "      <th>0</th>\n",
       "      <td>428483-01</td>\n",
       "      <td>428483</td>\n",
       "      <td>OSASCO</td>\n",
       "      <td>{'faultstring': 'ERROR: Código de integração d...</td>\n",
       "      <td>2025-02-03 16:10:57</td>\n",
       "    </tr>\n",
       "    <tr>\n",
       "      <th>1</th>\n",
       "      <td>429371-01</td>\n",
       "      <td>429371</td>\n",
       "      <td>ALPHAVILLE</td>\n",
       "      <td>{'faultstring': 'ERROR: Cliente não cadastrado...</td>\n",
       "      <td>2025-02-07 18:02:37</td>\n",
       "    </tr>\n",
       "    <tr>\n",
       "      <th>2</th>\n",
       "      <td>429371-01</td>\n",
       "      <td>429371</td>\n",
       "      <td>ALPHAVILLE</td>\n",
       "      <td>{'faultstring': 'ERROR: Cliente não cadastrado...</td>\n",
       "      <td>2025-02-07 18:03:41</td>\n",
       "    </tr>\n",
       "    <tr>\n",
       "      <th>3</th>\n",
       "      <td>429837-01</td>\n",
       "      <td>429837</td>\n",
       "      <td>CAMPINAS</td>\n",
       "      <td>{'faultstring': 'ERROR: Cliente não cadastrado...</td>\n",
       "      <td>2025-02-07 19:46:22</td>\n",
       "    </tr>\n",
       "    <tr>\n",
       "      <th>4</th>\n",
       "      <td>427823-01</td>\n",
       "      <td>427823</td>\n",
       "      <td>ALPHAVILLE</td>\n",
       "      <td>{'cCodIntOS': '427823-01', 'nCodOS': 295917355...</td>\n",
       "      <td>2025-02-10 15:12:43</td>\n",
       "    </tr>\n",
       "    <tr>\n",
       "      <th>5</th>\n",
       "      <td>431702-01</td>\n",
       "      <td>431702</td>\n",
       "      <td>TATUAPÉ</td>\n",
       "      <td>{'cCodIntOS': '431702-01', 'nCodOS': 296087782...</td>\n",
       "      <td>2025-02-14 16:34:09</td>\n",
       "    </tr>\n",
       "    <tr>\n",
       "      <th>6</th>\n",
       "      <td>431683-01</td>\n",
       "      <td>431683</td>\n",
       "      <td>LAPA</td>\n",
       "      <td>{'cCodIntOS': '431683-01', 'nCodOS': 296087783...</td>\n",
       "      <td>2025-02-14 16:34:12</td>\n",
       "    </tr>\n",
       "    <tr>\n",
       "      <th>7</th>\n",
       "      <td>431670-01</td>\n",
       "      <td>431670</td>\n",
       "      <td>MOEMA</td>\n",
       "      <td>{'cCodIntOS': '431670-01', 'nCodOS': 296087784...</td>\n",
       "      <td>2025-02-14 16:34:15</td>\n",
       "    </tr>\n",
       "    <tr>\n",
       "      <th>8</th>\n",
       "      <td>430323-01</td>\n",
       "      <td>430323</td>\n",
       "      <td>SANTOS</td>\n",
       "      <td>{'faultstring': 'ERROR: Cliente não cadastrado...</td>\n",
       "      <td>2025-02-14 18:08:01</td>\n",
       "    </tr>\n",
       "    <tr>\n",
       "      <th>9</th>\n",
       "      <td>430226-01</td>\n",
       "      <td>430226</td>\n",
       "      <td>SANTOS</td>\n",
       "      <td>{'cCodIntOS': '430226-01', 'nCodOS': 296089674...</td>\n",
       "      <td>2025-02-14 18:08:06</td>\n",
       "    </tr>\n",
       "    <tr>\n",
       "      <th>10</th>\n",
       "      <td>430323-01</td>\n",
       "      <td>430323</td>\n",
       "      <td>SANTOS</td>\n",
       "      <td>{'faultstring': 'ERROR: Cliente não cadastrado...</td>\n",
       "      <td>2025-02-14 18:12:39</td>\n",
       "    </tr>\n",
       "    <tr>\n",
       "      <th>11</th>\n",
       "      <td>430323-01</td>\n",
       "      <td>430323</td>\n",
       "      <td>SANTOS</td>\n",
       "      <td>{'cCodIntOS': '430323-01', 'nCodOS': 296091385...</td>\n",
       "      <td>2025-02-14 18:31:12</td>\n",
       "    </tr>\n",
       "  </tbody>\n",
       "</table>\n",
       "</div>"
      ],
      "text/plain": [
       "        os_id  quote_id  store_name  \\\n",
       "0   428483-01    428483      OSASCO   \n",
       "1   429371-01    429371  ALPHAVILLE   \n",
       "2   429371-01    429371  ALPHAVILLE   \n",
       "3   429837-01    429837    CAMPINAS   \n",
       "4   427823-01    427823  ALPHAVILLE   \n",
       "5   431702-01    431702     TATUAPÉ   \n",
       "6   431683-01    431683        LAPA   \n",
       "7   431670-01    431670       MOEMA   \n",
       "8   430323-01    430323      SANTOS   \n",
       "9   430226-01    430226      SANTOS   \n",
       "10  430323-01    430323      SANTOS   \n",
       "11  430323-01    430323      SANTOS   \n",
       "\n",
       "                                             resposta            timestamp  \n",
       "0   {'faultstring': 'ERROR: Código de integração d...  2025-02-03 16:10:57  \n",
       "1   {'faultstring': 'ERROR: Cliente não cadastrado...  2025-02-07 18:02:37  \n",
       "2   {'faultstring': 'ERROR: Cliente não cadastrado...  2025-02-07 18:03:41  \n",
       "3   {'faultstring': 'ERROR: Cliente não cadastrado...  2025-02-07 19:46:22  \n",
       "4   {'cCodIntOS': '427823-01', 'nCodOS': 295917355...  2025-02-10 15:12:43  \n",
       "5   {'cCodIntOS': '431702-01', 'nCodOS': 296087782...  2025-02-14 16:34:09  \n",
       "6   {'cCodIntOS': '431683-01', 'nCodOS': 296087783...  2025-02-14 16:34:12  \n",
       "7   {'cCodIntOS': '431670-01', 'nCodOS': 296087784...  2025-02-14 16:34:15  \n",
       "8   {'faultstring': 'ERROR: Cliente não cadastrado...  2025-02-14 18:08:01  \n",
       "9   {'cCodIntOS': '430226-01', 'nCodOS': 296089674...  2025-02-14 18:08:06  \n",
       "10  {'faultstring': 'ERROR: Cliente não cadastrado...  2025-02-14 18:12:39  \n",
       "11  {'cCodIntOS': '430323-01', 'nCodOS': 296091385...  2025-02-14 18:31:12  "
      ]
     },
     "execution_count": 35,
     "metadata": {},
     "output_type": "execute_result"
    }
   ],
   "source": [
    "ids_os_subidos"
   ]
  },
  {
   "cell_type": "code",
   "execution_count": 36,
   "metadata": {},
   "outputs": [
    {
     "data": {
      "text/plain": [
       "4     427823-01\n",
       "5     431702-01\n",
       "6     431683-01\n",
       "7     431670-01\n",
       "9     430226-01\n",
       "11    430323-01\n",
       "Name: os_id, dtype: object"
      ]
     },
     "execution_count": 36,
     "metadata": {},
     "output_type": "execute_result"
    }
   ],
   "source": [
    "id_mask = ids_os_subidos[\"resposta\"].astype(str).str.contains(\"ERROR\", case=False, na=False)\n",
    "ids_os_subidos = ids_os_subidos.loc[~id_mask,\"os_id\"]\n",
    "ids_os_subidos"
   ]
  }
 ],
 "metadata": {
  "kernelspec": {
   "display_name": ".venv",
   "language": "python",
   "name": "python3"
  },
  "language_info": {
   "codemirror_mode": {
    "name": "ipython",
    "version": 3
   },
   "file_extension": ".py",
   "mimetype": "text/x-python",
   "name": "python",
   "nbconvert_exporter": "python",
   "pygments_lexer": "ipython3",
   "version": "3.12.3"
  }
 },
 "nbformat": 4,
 "nbformat_minor": 2
}
