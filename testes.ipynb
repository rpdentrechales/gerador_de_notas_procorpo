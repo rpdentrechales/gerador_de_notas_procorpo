{
 "cells": [
  {
   "cell_type": "code",
   "execution_count": 1,
   "metadata": {},
   "outputs": [],
   "source": [
    "import streamlit as st\n",
    "import pandas as pd\n",
    "from datetime import datetime, timedelta,time\n",
    "from streamlit_gsheets import GSheetsConnection\n",
    "from auxiliar.auxiliar import *\n",
    "from auxiliar.omie_aux import *"
   ]
  },
  {
   "cell_type": "code",
   "execution_count": null,
   "metadata": {},
   "outputs": [],
   "source": [
    "contas_correntes = load_dataframe(\"Auxiliar - Contas Correntes\")\n",
    "dados_unidade = load_dataframe(\"Auxiliar - Chave das APIs por Unidade\")"
   ]
  },
  {
   "cell_type": "code",
   "execution_count": 7,
   "metadata": {},
   "outputs": [
    {
     "data": {
      "text/plain": [
       "array(['MG - Belo Horizonte', 'PR - Londrina', 'RJ - Copacabana',\n",
       "       'RJ - Tijuca', 'SP - Campinas', 'SP - Ipiranga', 'SP - Itaim',\n",
       "       'SP - Jardins', 'SP - Lapa', 'SP - Moema', 'SP - Ribeirão Preto',\n",
       "       'SP - Santo Amaro', 'SP - Santos', 'SP - Sorocaba', 'SP - Tatuapé',\n",
       "       'SP - Tucuruvi', 'SP - Mooca', 'SP - Osasco', 'SP - Alphaville',\n",
       "       'SP - São Bernardo', 'SP - Guarulhos', 'SP - Vila Mascote'],\n",
       "      dtype=object)"
      ]
     },
     "execution_count": 7,
     "metadata": {},
     "output_type": "execute_result"
    }
   ],
   "source": [
    "dados_unidade[\"Unidades Omie\"].unique()"
   ]
  },
  {
   "cell_type": "code",
   "execution_count": 16,
   "metadata": {},
   "outputs": [],
   "source": [
    "omie_set = set(dados_unidade[\"Unidades Omie\"].dropna().unique())\n",
    "conta_set = set(np.append(contas_correntes[\"Unidade\"].dropna().unique(), \"teste\"))\n",
    "\n",
    "\n",
    "# Differences\n",
    "omie_only = omie_set - conta_set  # In Omie but not in Contas\n",
    "conta_only = conta_set - omie_set  # In Contas but not in Omie"
   ]
  },
  {
   "cell_type": "code",
   "execution_count": 18,
   "metadata": {},
   "outputs": [
    {
     "data": {
      "text/plain": [
       "set()"
      ]
     },
     "execution_count": 18,
     "metadata": {},
     "output_type": "execute_result"
    }
   ],
   "source": [
    "omie_only"
   ]
  },
  {
   "cell_type": "code",
   "execution_count": 17,
   "metadata": {},
   "outputs": [
    {
     "data": {
      "text/plain": [
       "{'teste'}"
      ]
     },
     "execution_count": 17,
     "metadata": {},
     "output_type": "execute_result"
    }
   ],
   "source": [
    "conta_only"
   ]
  }
 ],
 "metadata": {
  "kernelspec": {
   "display_name": ".venv",
   "language": "python",
   "name": "python3"
  },
  "language_info": {
   "codemirror_mode": {
    "name": "ipython",
    "version": 3
   },
   "file_extension": ".py",
   "mimetype": "text/x-python",
   "name": "python",
   "nbconvert_exporter": "python",
   "pygments_lexer": "ipython3",
   "version": "3.12.3"
  }
 },
 "nbformat": 4,
 "nbformat_minor": 2
}
