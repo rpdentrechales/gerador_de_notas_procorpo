{
 "cells": [
  {
   "cell_type": "code",
   "execution_count": 1,
   "metadata": {},
   "outputs": [],
   "source": [
    "import streamlit as st\n",
    "import pandas as pd\n",
    "from datetime import datetime, timedelta,time\n",
    "from streamlit_gsheets import GSheetsConnection\n",
    "from auxiliar.auxiliar import *\n",
    "from auxiliar.omie_aux import *"
   ]
  },
  {
   "cell_type": "markdown",
   "metadata": {},
   "source": [
    "# testar subir OS"
   ]
  },
  {
   "cell_type": "code",
   "execution_count": null,
   "metadata": {},
   "outputs": [],
   "source": [
    "base_compilada = pd.read_csv(\"testes\\dados_testes.csv\")\n",
    "print(f\"Tamanho da base: {base_compilada.shape}\")\n"
   ]
  },
  {
   "cell_type": "code",
   "execution_count": null,
   "metadata": {},
   "outputs": [],
   "source": [
    "clientes_omie = atualizar_base_clientes()\n",
    "st.write(f\"{len(clientes_omie)} clientes novos criados\")"
   ]
  },
  {
   "cell_type": "code",
   "execution_count": null,
   "metadata": {},
   "outputs": [],
   "source": [
    "base_compilada.columns"
   ]
  },
  {
   "cell_type": "code",
   "execution_count": null,
   "metadata": {},
   "outputs": [],
   "source": [
    "id_cliente = 1037216\n",
    "\n",
    "dados_cliente_str = (\n",
    "    base_compilada.loc[base_compilada[\"customer_id\"] == id_cliente, \"dados_cliente\"]\n",
    "    .iat[0]                 # retorna o escalar, não o repr do Series/DataFrame\n",
    ")\n",
    "\n",
    "dados_cliente = json.loads(dados_cliente_str)\n",
    "print(dados_cliente)"
   ]
  },
  {
   "cell_type": "code",
   "execution_count": 3,
   "metadata": {},
   "outputs": [
    {
     "name": "stderr",
     "output_type": "stream",
     "text": [
      "2025-05-14 11:58:55.561 WARNING streamlit.runtime.scriptrunner_utils.script_run_context: Thread 'MainThread': missing ScriptRunContext! This warning can be ignored when running in bare mode.\n",
      "2025-05-14 11:58:55.589 \"runner.magic_enabled\" is not a valid config option. If you previously had this config option set, it may have been removed.\n",
      "2025-05-14 11:58:55.591 \n",
      "  \u001b[33m\u001b[1mWarning:\u001b[0m to view this Streamlit app on a browser, run it with the following\n",
      "  command:\n",
      "\n",
      "    streamlit run c:\\Users\\ciros\\github\\gerador_de_notas_procorpo\\.venv\\Lib\\site-packages\\ipykernel_launcher.py [ARGUMENTS]\n",
      "2025-05-14 11:58:55.591 Thread 'MainThread': missing ScriptRunContext! This warning can be ignored when running in bare mode.\n",
      "2025-05-14 11:58:55.592 Thread 'MainThread': missing ScriptRunContext! This warning can be ignored when running in bare mode.\n",
      "2025-05-14 11:58:55.995 Thread 'MainThread': missing ScriptRunContext! This warning can be ignored when running in bare mode.\n",
      "2025-05-14 11:58:55.995 Thread 'MainThread': missing ScriptRunContext! This warning can be ignored when running in bare mode.\n",
      "2025-05-14 11:58:55.995 No runtime found, using MemoryCacheStorageManager\n",
      "2025-05-14 11:58:55.995 No runtime found, using MemoryCacheStorageManager\n",
      "2025-05-14 11:58:55.995 Thread 'MainThread': missing ScriptRunContext! This warning can be ignored when running in bare mode.\n",
      "2025-05-14 11:58:55.995 Thread 'MainThread': missing ScriptRunContext! This warning can be ignored when running in bare mode.\n",
      "2025-05-14 11:58:55.995 Thread 'MainThread': missing ScriptRunContext! This warning can be ignored when running in bare mode.\n",
      "2025-05-14 11:58:56.505 Thread 'Thread-4': missing ScriptRunContext! This warning can be ignored when running in bare mode.\n",
      "2025-05-14 11:58:56.505 Thread 'Thread-4': missing ScriptRunContext! This warning can be ignored when running in bare mode.\n",
      "2025-05-14 11:58:56.924 Thread 'MainThread': missing ScriptRunContext! This warning can be ignored when running in bare mode.\n",
      "2025-05-14 11:58:56.924 Thread 'MainThread': missing ScriptRunContext! This warning can be ignored when running in bare mode.\n",
      "c:\\Users\\ciros\\github\\gerador_de_notas_procorpo\\auxiliar\\auxiliar.py:148: FutureWarning: Series.__getitem__ treating keys as positions is deprecated. In a future version, integer keys will always be treated as labels (consistent with DataFrame behavior). To access a value by position, use `ser.iloc[pos]`\n",
      "  unidade = row[0]\n",
      "c:\\Users\\ciros\\github\\gerador_de_notas_procorpo\\auxiliar\\auxiliar.py:149: FutureWarning: Series.__getitem__ treating keys as positions is deprecated. In a future version, integer keys will always be treated as labels (consistent with DataFrame behavior). To access a value by position, use `ser.iloc[pos]`\n",
      "  api_secret = row[2]\n",
      "c:\\Users\\ciros\\github\\gerador_de_notas_procorpo\\auxiliar\\auxiliar.py:150: FutureWarning: Series.__getitem__ treating keys as positions is deprecated. In a future version, integer keys will always be treated as labels (consistent with DataFrame behavior). To access a value by position, use `ser.iloc[pos]`\n",
      "  api_key = row[3]\n"
     ]
    },
    {
     "name": "stdout",
     "output_type": "stream",
     "text": [
      "id_cliente: 1037216 - Resultado: Error - Resposta: ERROR: O endereço de e-mail não é válido.Certifique-se de que possui uma conta e um domínio ( exemplo: minhaconta@dominio.com ) - tag [email] \n",
      "id_cliente: 812518 - Resultado: Error - Resposta: ERROR: API bloqueada por consumo indevido. Tente novamente em 1799 segundos.\n",
      "id_cliente: 570203 - Resultado: Error - Resposta: ERROR: API bloqueada por consumo indevido. Tente novamente em 1798 segundos.\n",
      "id_cliente: 718703 - Resultado: Error - Resposta: ERROR: API bloqueada por consumo indevido. Tente novamente em 1797 segundos.\n",
      "ERROR: API bloqueada por consumo indevido. Tente novamente em 1796 segundos.\n",
      "Muitos erros, parando a execução.\n",
      "['ERROR: O endereço de e-mail não é válido.Certifique-se de que possui uma conta e um domínio ( exemplo: minhaconta@dominio.com ) - tag [email] ', 'ERROR: API bloqueada por consumo indevido. Tente novamente em 1799 segundos.', 'ERROR: API bloqueada por consumo indevido. Tente novamente em 1798 segundos.', 'ERROR: API bloqueada por consumo indevido. Tente novamente em 1797 segundos.', 'ERROR: API bloqueada por consumo indevido. Tente novamente em 1796 segundos.']\n"
     ]
    },
    {
     "ename": "AttributeError",
     "evalue": "'NoneType' object has no attribute 'to_dict'",
     "output_type": "error",
     "traceback": [
      "\u001b[31m---------------------------------------------------------------------------\u001b[39m",
      "\u001b[31mAttributeError\u001b[39m                            Traceback (most recent call last)",
      "\u001b[36mCell\u001b[39m\u001b[36m \u001b[39m\u001b[32mIn[3]\u001b[39m\u001b[32m, line 4\u001b[39m\n\u001b[32m      1\u001b[39m base_compilada = pd.read_csv(\u001b[33m\"\u001b[39m\u001b[33mtestes\u001b[39m\u001b[33m\\\u001b[39m\u001b[33mdados_testes.csv\u001b[39m\u001b[33m\"\u001b[39m)\n\u001b[32m      3\u001b[39m clientes_subidos = criar_clientes_selecionados(base_compilada)\n\u001b[32m----> \u001b[39m\u001b[32m4\u001b[39m clientes_subidos = \u001b[43mclientes_subidos\u001b[49m\u001b[43m.\u001b[49m\u001b[43mto_dict\u001b[49m(orient=\u001b[33m'\u001b[39m\u001b[33mrecords\u001b[39m\u001b[33m'\u001b[39m)\n\u001b[32m      5\u001b[39m st.write(\u001b[33mf\u001b[39m\u001b[33m\"\u001b[39m\u001b[38;5;132;01m{\u001b[39;00m\u001b[38;5;28mlen\u001b[39m(clientes_subidos)\u001b[38;5;132;01m}\u001b[39;00m\u001b[33m clientes novos criados\u001b[39m\u001b[33m\"\u001b[39m)\n\u001b[32m      6\u001b[39m subir_dados_mongodb(\u001b[33m\"\u001b[39m\u001b[33mlog_clientes\u001b[39m\u001b[33m\"\u001b[39m,clientes_subidos)\n",
      "\u001b[31mAttributeError\u001b[39m: 'NoneType' object has no attribute 'to_dict'"
     ]
    }
   ],
   "source": [
    "base_compilada = pd.read_csv(\"testes\\dados_testes.csv\")\n",
    "\n",
    "clientes_subidos = criar_clientes_selecionados(base_compilada)\n",
    "clientes_subidos = clientes_subidos.to_dict(orient='records')\n",
    "st.write(f\"{len(clientes_subidos)} clientes novos criados\")\n",
    "subir_dados_mongodb(\"log_clientes\",clientes_subidos)\n",
    "\n",
    "# st.write(\"Criando Ordens de Serviço...\")\n",
    "# os_subidos = criar_ordens_de_servico_da_planilha(base_compilada)\n",
    "# os_subidos_dic = os_subidos.to_dict(orient='records')\n",
    "# subir_dados_mongodb(\"log_os\",os_subidos_dic)\n",
    "\n",
    "# erros_mask = os_subidos[\"resposta\"].astype(str).str.contains(\"ERROR\", case=False, na=False)\n",
    "# ids_para_subir = os_subidos.loc[~erros_mask,\"os_id\"]\n",
    "# base_para_subir = dados_crm_df.loc[dados_crm_df['os_id'].isin(ids_para_subir)]\n",
    "# base_para_subir = base_para_subir.drop_duplicates()\n",
    "# base_para_subir_dic = base_para_subir.to_dict(orient='records')\n",
    "# subir_dados_mongodb(\"os_processados\",base_para_subir_dic)"
   ]
  },
  {
   "cell_type": "code",
   "execution_count": null,
   "metadata": {},
   "outputs": [],
   "source": [
    "linha_teste = base_compilada.iloc[0]\n",
    "subir_linha_teste(linha_teste)"
   ]
  },
  {
   "cell_type": "code",
   "execution_count": null,
   "metadata": {},
   "outputs": [],
   "source": [
    "codigo_integracao = pegar_dados_mongodb(\"id_clientes\")\n",
    "codigo_integracao"
   ]
  },
  {
   "cell_type": "code",
   "execution_count": null,
   "metadata": {},
   "outputs": [],
   "source": [
    "id_do_cliente = 995654\n",
    "unidade = \"BackOffice\"\n",
    "\n",
    "mesmo_id  = codigo_integracao[\"codigo_cliente_integracao\"] == id_do_cliente\n",
    "mesma_unidade = codigo_integracao[\"unidade\"] == unidade\n",
    "if (mesmo_id & mesma_unidade).any():\n",
    "    print(\"Cliente já existe na base\")\n",
    "# codigo_integracao.loc[codigo_integracao['codigo_cliente_integracao'] == 995654]\n"
   ]
  }
 ],
 "metadata": {
  "kernelspec": {
   "display_name": ".venv",
   "language": "python",
   "name": "python3"
  },
  "language_info": {
   "codemirror_mode": {
    "name": "ipython",
    "version": 3
   },
   "file_extension": ".py",
   "mimetype": "text/x-python",
   "name": "python",
   "nbconvert_exporter": "python",
   "pygments_lexer": "ipython3",
   "version": "3.11.9"
  }
 },
 "nbformat": 4,
 "nbformat_minor": 2
}
