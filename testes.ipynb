{
 "cells": [
  {
   "cell_type": "code",
   "execution_count": 3,
   "metadata": {},
   "outputs": [],
   "source": [
    "import streamlit as st\n",
    "import pandas as pd\n",
    "from datetime import datetime, timedelta,time\n",
    "from streamlit_gsheets import GSheetsConnection\n",
    "from auxiliar.auxiliar import *\n",
    "from auxiliar.omie_aux import *"
   ]
  },
  {
   "cell_type": "code",
   "execution_count": 4,
   "metadata": {},
   "outputs": [
    {
     "name": "stderr",
     "output_type": "stream",
     "text": [
      "2025-03-24 12:42:58.616 WARNING streamlit.runtime.scriptrunner_utils.script_run_context: Thread 'MainThread': missing ScriptRunContext! This warning can be ignored when running in bare mode.\n",
      "2025-03-24 12:42:58.882 \"runner.magic_enabled\" is not a valid config option. If you previously had this config option set, it may have been removed.\n",
      "2025-03-24 12:42:58.888 \n",
      "  \u001b[33m\u001b[1mWarning:\u001b[0m to view this Streamlit app on a browser, run it with the following\n",
      "  command:\n",
      "\n",
      "    streamlit run /home/ciroshia/Downloads/github/gerador_de_notas_procorpo/.venv/lib/python3.12/site-packages/ipykernel_launcher.py [ARGUMENTS]\n",
      "2025-03-24 12:42:58.889 Thread 'MainThread': missing ScriptRunContext! This warning can be ignored when running in bare mode.\n",
      "2025-03-24 12:42:58.891 Thread 'MainThread': missing ScriptRunContext! This warning can be ignored when running in bare mode.\n",
      "2025-03-24 12:42:59.303 Thread 'MainThread': missing ScriptRunContext! This warning can be ignored when running in bare mode.\n",
      "2025-03-24 12:42:59.305 Thread 'MainThread': missing ScriptRunContext! This warning can be ignored when running in bare mode.\n",
      "2025-03-24 12:42:59.307 No runtime found, using MemoryCacheStorageManager\n",
      "2025-03-24 12:42:59.313 No runtime found, using MemoryCacheStorageManager\n",
      "2025-03-24 12:42:59.316 Thread 'MainThread': missing ScriptRunContext! This warning can be ignored when running in bare mode.\n",
      "2025-03-24 12:42:59.319 Thread 'MainThread': missing ScriptRunContext! This warning can be ignored when running in bare mode.\n",
      "2025-03-24 12:42:59.321 Thread 'MainThread': missing ScriptRunContext! This warning can be ignored when running in bare mode.\n",
      "2025-03-24 12:42:59.824 Thread 'Thread-5': missing ScriptRunContext! This warning can be ignored when running in bare mode.\n",
      "2025-03-24 12:42:59.828 Thread 'Thread-5': missing ScriptRunContext! This warning can be ignored when running in bare mode.\n",
      "2025-03-24 12:43:00.966 Thread 'MainThread': missing ScriptRunContext! This warning can be ignored when running in bare mode.\n",
      "2025-03-24 12:43:00.968 Thread 'MainThread': missing ScriptRunContext! This warning can be ignored when running in bare mode.\n",
      "/home/ciroshia/Downloads/github/gerador_de_notas_procorpo/auxiliar/auxiliar.py:180: FutureWarning: Series.__getitem__ treating keys as positions is deprecated. In a future version, integer keys will always be treated as labels (consistent with DataFrame behavior). To access a value by position, use `ser.iloc[pos]`\n",
      "  id_cc = row[0]\n",
      "/home/ciroshia/Downloads/github/gerador_de_notas_procorpo/auxiliar/auxiliar.py:181: FutureWarning: Series.__getitem__ treating keys as positions is deprecated. In a future version, integer keys will always be treated as labels (consistent with DataFrame behavior). To access a value by position, use `ser.iloc[pos]`\n",
      "  unidade = row[2]\n",
      "/home/ciroshia/Downloads/github/gerador_de_notas_procorpo/auxiliar/auxiliar.py:182: FutureWarning: Series.__getitem__ treating keys as positions is deprecated. In a future version, integer keys will always be treated as labels (consistent with DataFrame behavior). To access a value by position, use `ser.iloc[pos]`\n",
      "  tipo_pagamento = row[4]\n",
      "2025-03-24 12:43:01.007 No runtime found, using MemoryCacheStorageManager\n",
      "2025-03-24 12:43:01.010 Thread 'MainThread': missing ScriptRunContext! This warning can be ignored when running in bare mode.\n",
      "2025-03-24 12:43:01.014 Thread 'MainThread': missing ScriptRunContext! This warning can be ignored when running in bare mode.\n",
      "2025-03-24 12:43:01.016 Thread 'MainThread': missing ScriptRunContext! This warning can be ignored when running in bare mode.\n",
      "2025-03-24 12:43:01.519 Thread 'Thread-6': missing ScriptRunContext! This warning can be ignored when running in bare mode.\n",
      "2025-03-24 12:43:01.524 Thread 'Thread-6': missing ScriptRunContext! This warning can be ignored when running in bare mode.\n",
      "2025-03-24 12:43:01.664 Thread 'MainThread': missing ScriptRunContext! This warning can be ignored when running in bare mode.\n",
      "2025-03-24 12:43:01.665 Thread 'MainThread': missing ScriptRunContext! This warning can be ignored when running in bare mode.\n",
      "/home/ciroshia/Downloads/github/gerador_de_notas_procorpo/auxiliar/auxiliar.py:200: FutureWarning: Series.__getitem__ treating keys as positions is deprecated. In a future version, integer keys will always be treated as labels (consistent with DataFrame behavior). To access a value by position, use `ser.iloc[pos]`\n",
      "  tipo_de_pagamento = row[0]\n",
      "/home/ciroshia/Downloads/github/gerador_de_notas_procorpo/auxiliar/auxiliar.py:201: FutureWarning: Series.__getitem__ treating keys as positions is deprecated. In a future version, integer keys will always be treated as labels (consistent with DataFrame behavior). To access a value by position, use `ser.iloc[pos]`\n",
      "  conta_corrente = row[1]\n",
      "2025-03-24 12:43:01.672 No runtime found, using MemoryCacheStorageManager\n",
      "2025-03-24 12:43:01.674 Thread 'MainThread': missing ScriptRunContext! This warning can be ignored when running in bare mode.\n",
      "2025-03-24 12:43:01.676 Thread 'MainThread': missing ScriptRunContext! This warning can be ignored when running in bare mode.\n",
      "2025-03-24 12:43:01.678 Thread 'MainThread': missing ScriptRunContext! This warning can be ignored when running in bare mode.\n",
      "2025-03-24 12:43:02.181 Thread 'Thread-7': missing ScriptRunContext! This warning can be ignored when running in bare mode.\n",
      "2025-03-24 12:43:02.186 Thread 'Thread-7': missing ScriptRunContext! This warning can be ignored when running in bare mode.\n",
      "2025-03-24 12:43:02.342 Thread 'MainThread': missing ScriptRunContext! This warning can be ignored when running in bare mode.\n",
      "2025-03-24 12:43:02.343 Thread 'MainThread': missing ScriptRunContext! This warning can be ignored when running in bare mode.\n",
      "/home/ciroshia/Downloads/github/gerador_de_notas_procorpo/auxiliar/auxiliar.py:227: FutureWarning: Series.__getitem__ treating keys as positions is deprecated. In a future version, integer keys will always be treated as labels (consistent with DataFrame behavior). To access a value by position, use `ser.iloc[pos]`\n",
      "  unidade_crm = row[0]\n",
      "/home/ciroshia/Downloads/github/gerador_de_notas_procorpo/auxiliar/auxiliar.py:228: FutureWarning: Series.__getitem__ treating keys as positions is deprecated. In a future version, integer keys will always be treated as labels (consistent with DataFrame behavior). To access a value by position, use `ser.iloc[pos]`\n",
      "  unidade_omie = row[1]\n",
      "/home/ciroshia/Downloads/github/gerador_de_notas_procorpo/auxiliar/auxiliar.py:229: FutureWarning: Series.__getitem__ treating keys as positions is deprecated. In a future version, integer keys will always be treated as labels (consistent with DataFrame behavior). To access a value by position, use `ser.iloc[pos]`\n",
      "  cidade = row[4]\n",
      "2025-03-24 12:43:02.353 No runtime found, using MemoryCacheStorageManager\n",
      "2025-03-24 12:43:02.357 Thread 'MainThread': missing ScriptRunContext! This warning can be ignored when running in bare mode.\n",
      "2025-03-24 12:43:02.359 Thread 'MainThread': missing ScriptRunContext! This warning can be ignored when running in bare mode.\n",
      "2025-03-24 12:43:02.360 Thread 'MainThread': missing ScriptRunContext! This warning can be ignored when running in bare mode.\n",
      "2025-03-24 12:43:02.863 Thread 'Thread-8': missing ScriptRunContext! This warning can be ignored when running in bare mode.\n",
      "2025-03-24 12:43:02.867 Thread 'Thread-8': missing ScriptRunContext! This warning can be ignored when running in bare mode.\n",
      "2025-03-24 12:43:03.009 Thread 'MainThread': missing ScriptRunContext! This warning can be ignored when running in bare mode.\n",
      "2025-03-24 12:43:03.015 Thread 'MainThread': missing ScriptRunContext! This warning can be ignored when running in bare mode.\n",
      "/home/ciroshia/Downloads/github/gerador_de_notas_procorpo/auxiliar/auxiliar.py:164: FutureWarning: Series.__getitem__ treating keys as positions is deprecated. In a future version, integer keys will always be treated as labels (consistent with DataFrame behavior). To access a value by position, use `ser.iloc[pos]`\n",
      "  codigo_municipio = row[0]\n",
      "/home/ciroshia/Downloads/github/gerador_de_notas_procorpo/auxiliar/auxiliar.py:165: FutureWarning: Series.__getitem__ treating keys as positions is deprecated. In a future version, integer keys will always be treated as labels (consistent with DataFrame behavior). To access a value by position, use `ser.iloc[pos]`\n",
      "  aliquota = row[1]\n",
      "/home/ciroshia/Downloads/github/gerador_de_notas_procorpo/auxiliar/auxiliar.py:166: FutureWarning: Series.__getitem__ treating keys as positions is deprecated. In a future version, integer keys will always be treated as labels (consistent with DataFrame behavior). To access a value by position, use `ser.iloc[pos]`\n",
      "  cidade = row[2]\n",
      "2025-03-24 12:43:03.028 No runtime found, using MemoryCacheStorageManager\n",
      "2025-03-24 12:43:03.033 Thread 'MainThread': missing ScriptRunContext! This warning can be ignored when running in bare mode.\n",
      "2025-03-24 12:43:03.035 Thread 'MainThread': missing ScriptRunContext! This warning can be ignored when running in bare mode.\n",
      "2025-03-24 12:43:03.037 Thread 'MainThread': missing ScriptRunContext! This warning can be ignored when running in bare mode.\n",
      "2025-03-24 12:43:03.540 Thread 'Thread-9': missing ScriptRunContext! This warning can be ignored when running in bare mode.\n",
      "2025-03-24 12:43:03.543 Thread 'Thread-9': missing ScriptRunContext! This warning can be ignored when running in bare mode.\n",
      "2025-03-24 12:43:03.702 Thread 'MainThread': missing ScriptRunContext! This warning can be ignored when running in bare mode.\n",
      "2025-03-24 12:43:03.702 Thread 'MainThread': missing ScriptRunContext! This warning can be ignored when running in bare mode.\n",
      "/home/ciroshia/Downloads/github/gerador_de_notas_procorpo/auxiliar/auxiliar.py:119: FutureWarning: Series.__getitem__ treating keys as positions is deprecated. In a future version, integer keys will always be treated as labels (consistent with DataFrame behavior). To access a value by position, use `ser.iloc[pos]`\n",
      "  unidade = row[0]\n",
      "/home/ciroshia/Downloads/github/gerador_de_notas_procorpo/auxiliar/auxiliar.py:120: FutureWarning: Series.__getitem__ treating keys as positions is deprecated. In a future version, integer keys will always be treated as labels (consistent with DataFrame behavior). To access a value by position, use `ser.iloc[pos]`\n",
      "  endereco = row[1]\n",
      "/home/ciroshia/Downloads/github/gerador_de_notas_procorpo/auxiliar/auxiliar.py:121: FutureWarning: Series.__getitem__ treating keys as positions is deprecated. In a future version, integer keys will always be treated as labels (consistent with DataFrame behavior). To access a value by position, use `ser.iloc[pos]`\n",
      "  endereco_numero = row[2]\n",
      "/home/ciroshia/Downloads/github/gerador_de_notas_procorpo/auxiliar/auxiliar.py:122: FutureWarning: Series.__getitem__ treating keys as positions is deprecated. In a future version, integer keys will always be treated as labels (consistent with DataFrame behavior). To access a value by position, use `ser.iloc[pos]`\n",
      "  bairro = row[3]\n",
      "/home/ciroshia/Downloads/github/gerador_de_notas_procorpo/auxiliar/auxiliar.py:123: FutureWarning: Series.__getitem__ treating keys as positions is deprecated. In a future version, integer keys will always be treated as labels (consistent with DataFrame behavior). To access a value by position, use `ser.iloc[pos]`\n",
      "  complemento = row[4]\n",
      "/home/ciroshia/Downloads/github/gerador_de_notas_procorpo/auxiliar/auxiliar.py:124: FutureWarning: Series.__getitem__ treating keys as positions is deprecated. In a future version, integer keys will always be treated as labels (consistent with DataFrame behavior). To access a value by position, use `ser.iloc[pos]`\n",
      "  estado = row[5]\n",
      "/home/ciroshia/Downloads/github/gerador_de_notas_procorpo/auxiliar/auxiliar.py:125: FutureWarning: Series.__getitem__ treating keys as positions is deprecated. In a future version, integer keys will always be treated as labels (consistent with DataFrame behavior). To access a value by position, use `ser.iloc[pos]`\n",
      "  cidade = row[6]\n",
      "/home/ciroshia/Downloads/github/gerador_de_notas_procorpo/auxiliar/auxiliar.py:126: FutureWarning: Series.__getitem__ treating keys as positions is deprecated. In a future version, integer keys will always be treated as labels (consistent with DataFrame behavior). To access a value by position, use `ser.iloc[pos]`\n",
      "  cep = row[7]\n",
      "2025-03-24 12:43:03.710 No runtime found, using MemoryCacheStorageManager\n",
      "2025-03-24 12:43:03.712 Thread 'MainThread': missing ScriptRunContext! This warning can be ignored when running in bare mode.\n",
      "2025-03-24 12:43:03.712 Thread 'MainThread': missing ScriptRunContext! This warning can be ignored when running in bare mode.\n",
      "2025-03-24 12:43:03.714 Thread 'MainThread': missing ScriptRunContext! This warning can be ignored when running in bare mode.\n",
      "2025-03-24 12:43:04.216 Thread 'Thread-10': missing ScriptRunContext! This warning can be ignored when running in bare mode.\n",
      "2025-03-24 12:43:04.218 Thread 'Thread-10': missing ScriptRunContext! This warning can be ignored when running in bare mode.\n",
      "2025-03-24 12:43:04.357 Thread 'MainThread': missing ScriptRunContext! This warning can be ignored when running in bare mode.\n",
      "2025-03-24 12:43:04.359 Thread 'MainThread': missing ScriptRunContext! This warning can be ignored when running in bare mode.\n"
     ]
    }
   ],
   "source": [
    "data_inicial = \"2025-03-01\"\n",
    "data_final = \"2025-03-01\"\n",
    "\n",
    "dados_crm_df = paste_billcharges_with_json(data_inicial,data_final)"
   ]
  },
  {
   "cell_type": "code",
   "execution_count": 6,
   "metadata": {},
   "outputs": [
    {
     "data": {
      "text/plain": [
       "'2025-03-13 10:06:17'"
      ]
     },
     "execution_count": 6,
     "metadata": {},
     "output_type": "execute_result"
    }
   ],
   "source": [
    "base_compilada = compilar_linhas_para_subir(dados_crm_df)\n",
    "\n",
    "base_compilada[\"billcharge_paidAt\"].iloc[0]"
   ]
  }
 ],
 "metadata": {
  "kernelspec": {
   "display_name": ".venv",
   "language": "python",
   "name": "python3"
  },
  "language_info": {
   "codemirror_mode": {
    "name": "ipython",
    "version": 3
   },
   "file_extension": ".py",
   "mimetype": "text/x-python",
   "name": "python",
   "nbconvert_exporter": "python",
   "pygments_lexer": "ipython3",
   "version": "3.12.3"
  }
 },
 "nbformat": 4,
 "nbformat_minor": 2
}
