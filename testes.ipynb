{
 "cells": [
  {
   "cell_type": "code",
   "execution_count": null,
   "metadata": {},
   "outputs": [],
   "source": [
    "import streamlit as st\n",
    "import pandas as pd\n",
    "from datetime import datetime, timedelta,time\n",
    "from streamlit_gsheets import GSheetsConnection\n",
    "from auxiliar.auxiliar import *"
   ]
  },
  {
   "cell_type": "code",
   "execution_count": null,
   "metadata": {},
   "outputs": [],
   "source": [
    "data_seletor = st.date_input(\n",
    "    \"Selecione a data\",\n",
    "    (three_days_ago, today),\n",
    "    format=\"DD/MM/YYYY\",\n",
    ")\n",
    "\n",
    "if len(data_seletor) == 2:\n",
    "    data_inicial = datetime.combine(data_seletor[0], time.min)\n",
    "    data_final = datetime.combine(data_seletor[1], time.max)\n",
    "else:\n",
    "    data_inicial = datetime.combine(data_seletor[0], time.min)\n",
    "    data_final = datetime.combine(data_seletor[0], time.max)\n",
    "\n",
    "query = {\n",
    "    \"billcharge_paidAt\": {\n",
    "        \"$gte\": data_inicial,\n",
    "        \"$lte\": data_final\n",
    "    }\n",
    "}\n",
    "\n",
    "os_processados = pegar_dados_mongodb(\"os_processados\",query=query)"
   ]
  },
  {
   "cell_type": "code",
   "execution_count": 8,
   "metadata": {},
   "outputs": [
    {
     "ename": "SyntaxError",
     "evalue": "invalid syntax (740005707.py, line 1)",
     "output_type": "error",
     "traceback": [
      "\u001b[0;36m  Cell \u001b[0;32mIn[8], line 1\u001b[0;36m\u001b[0m\n\u001b[0;31m    new ISODate(\"2012-01-12T20:15:31Z\")\u001b[0m\n\u001b[0m        ^\u001b[0m\n\u001b[0;31mSyntaxError\u001b[0m\u001b[0;31m:\u001b[0m invalid syntax\n"
     ]
    }
   ],
   "source": [
    "new ISODate(\"2012-01-12T20:15:31Z\")"
   ]
  },
  {
   "cell_type": "code",
   "execution_count": 5,
   "metadata": {},
   "outputs": [
    {
     "name": "stdout",
     "output_type": "stream",
     "text": [
      "   quote_id  billCharge_id  customer_id                    customer_name  \\\n",
      "0    432299        1175691       704309  Renata Damasceno de Sousa Godoi   \n",
      "1    432299        1175690       704309  Renata Damasceno de Sousa Godoi   \n",
      "2    432299        1175689       704309  Renata Damasceno de Sousa Godoi   \n",
      "3    432299        1175688       704309  Renata Damasceno de Sousa Godoi   \n",
      "4    432299        1175687       704309  Renata Damasceno de Sousa Godoi   \n",
      "5    432299        1175686       704309  Renata Damasceno de Sousa Godoi   \n",
      "6    432299        1175685       704309  Renata Damasceno de Sousa Godoi   \n",
      "7    432299        1175684       704309  Renata Damasceno de Sousa Godoi   \n",
      "8    432299        1175683       704309  Renata Damasceno de Sousa Godoi   \n",
      "\n",
      "   store_name quote_status         paymentMethod_name    billcharge_paidAt  \\\n",
      "0  COPACABANA    completed  Cartão de Crédito (Vindi)  2025-02-17 13:24:52   \n",
      "1  COPACABANA    completed  Cartão de Crédito (Vindi)  2025-02-17 13:24:44   \n",
      "2  COPACABANA    completed  Cartão de Crédito (Vindi)  2025-02-17 13:24:51   \n",
      "3  COPACABANA    completed  Cartão de Crédito (Vindi)  2025-02-17 13:24:45   \n",
      "4  COPACABANA    completed  Cartão de Crédito (Vindi)  2025-02-17 13:24:49   \n",
      "5  COPACABANA    completed  Cartão de Crédito (Vindi)  2025-02-17 13:24:46   \n",
      "6  COPACABANA    completed  Cartão de Crédito (Vindi)  2025-02-17 13:24:46   \n",
      "7  COPACABANA    completed  Cartão de Crédito (Vindi)  2025-02-17 13:24:49   \n",
      "8  COPACABANA    completed  Cartão de Crédito (Vindi)  2025-02-17 13:24:54   \n",
      "\n",
      "   bill_installmentsQuantity  bill_amount  \\\n",
      "0                         10         80.0   \n",
      "1                         10         80.0   \n",
      "2                         10         80.0   \n",
      "3                         10         80.0   \n",
      "4                         10         80.0   \n",
      "5                         10         80.0   \n",
      "6                         10         80.0   \n",
      "7                         10         80.0   \n",
      "8                         10         80.0   \n",
      "\n",
      "                                       servicos_json      os_id  \\\n",
      "0  {\"cDadosAdicItem\": \"Servi\\u00e7o Prestado - 11...  432299-01   \n",
      "1  {\"cDadosAdicItem\": \"Servi\\u00e7o Prestado - 11...  432299-01   \n",
      "2  {\"cDadosAdicItem\": \"Servi\\u00e7o Prestado - 11...  432299-01   \n",
      "3  {\"cDadosAdicItem\": \"Servi\\u00e7o Prestado - 11...  432299-01   \n",
      "4  {\"cDadosAdicItem\": \"Servi\\u00e7o Prestado - 11...  432299-01   \n",
      "5  {\"cDadosAdicItem\": \"Servi\\u00e7o Prestado - 11...  432299-01   \n",
      "6  {\"cDadosAdicItem\": \"Servi\\u00e7o Prestado - 11...  432299-01   \n",
      "7  {\"cDadosAdicItem\": \"Servi\\u00e7o Prestado - 11...  432299-01   \n",
      "8  {\"cDadosAdicItem\": \"Servi\\u00e7o Prestado - 11...  432299-01   \n",
      "\n",
      "   id_conta_corrente                                      dados_cliente  \\\n",
      "0       2.839998e+09  {\"razao_social\": \"Renata Damasceno de Sousa Go...   \n",
      "1       2.839998e+09  {\"razao_social\": \"Renata Damasceno de Sousa Go...   \n",
      "2       2.839998e+09  {\"razao_social\": \"Renata Damasceno de Sousa Go...   \n",
      "3       2.839998e+09  {\"razao_social\": \"Renata Damasceno de Sousa Go...   \n",
      "4       2.839998e+09  {\"razao_social\": \"Renata Damasceno de Sousa Go...   \n",
      "5       2.839998e+09  {\"razao_social\": \"Renata Damasceno de Sousa Go...   \n",
      "6       2.839998e+09  {\"razao_social\": \"Renata Damasceno de Sousa Go...   \n",
      "7       2.839998e+09  {\"razao_social\": \"Renata Damasceno de Sousa Go...   \n",
      "8       2.839998e+09  {\"razao_social\": \"Renata Damasceno de Sousa Go...   \n",
      "\n",
      "   isPaid Tipo de Pagamento     billcharge_dueAt  amount  os_na_base  \\\n",
      "0    True  Pontual - Cartão  2025-10-15 00:00:00    80.0       False   \n",
      "1    True  Pontual - Cartão  2025-09-15 00:00:00    80.0       False   \n",
      "2    True  Pontual - Cartão  2025-08-15 00:00:00    80.0       False   \n",
      "3    True  Pontual - Cartão  2025-07-15 00:00:00    80.0       False   \n",
      "4    True  Pontual - Cartão  2025-06-15 00:00:00    80.0       False   \n",
      "5    True  Pontual - Cartão  2025-05-15 00:00:00    80.0       False   \n",
      "6    True  Pontual - Cartão  2025-04-15 00:00:00    80.0       False   \n",
      "7    True  Pontual - Cartão  2025-03-15 00:00:00    80.0       False   \n",
      "8    True  Pontual - Cartão  2025-02-15 00:00:00    80.0       False   \n",
      "\n",
      "   Selecionar notas para subir  \n",
      "0                        False  \n",
      "1                        False  \n",
      "2                        False  \n",
      "3                        False  \n",
      "4                        False  \n",
      "5                        False  \n",
      "6                        False  \n",
      "7                        False  \n",
      "8                        False  \n"
     ]
    }
   ],
   "source": [
    "print(os_processados)"
   ]
  }
 ],
 "metadata": {
  "kernelspec": {
   "display_name": ".venv",
   "language": "python",
   "name": "python3"
  },
  "language_info": {
   "codemirror_mode": {
    "name": "ipython",
    "version": 3
   },
   "file_extension": ".py",
   "mimetype": "text/x-python",
   "name": "python",
   "nbconvert_exporter": "python",
   "pygments_lexer": "ipython3",
   "version": "3.12.3"
  }
 },
 "nbformat": 4,
 "nbformat_minor": 2
}
